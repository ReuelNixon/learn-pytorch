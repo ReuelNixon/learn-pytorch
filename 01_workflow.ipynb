{
  "nbformat": 4,
  "nbformat_minor": 0,
  "metadata": {
    "colab": {
      "provenance": [],
      "gpuType": "T4",
      "authorship_tag": "ABX9TyMDesjAeN9dnSsGNvhCxwxC",
      "include_colab_link": true
    },
    "kernelspec": {
      "name": "python3",
      "display_name": "Python 3"
    },
    "language_info": {
      "name": "python"
    },
    "accelerator": "GPU"
  },
  "cells": [
    {
      "cell_type": "markdown",
      "metadata": {
        "id": "view-in-github",
        "colab_type": "text"
      },
      "source": [
        "<a href=\"https://colab.research.google.com/github/ReuelNixon/learn-pytorch/blob/main/01_workflow.ipynb\" target=\"_parent\"><img src=\"https://colab.research.google.com/assets/colab-badge.svg\" alt=\"Open In Colab\"/></a>"
      ]
    },
    {
      "cell_type": "markdown",
      "source": [
        "## PyTorch end-to-end workflow.\n",
        "1. Data (prepare and load)\n",
        "2. Build model\n",
        "3. Fitting the model to data (training)\n",
        "4. Making predictions and evaluting a model (inference)\n",
        "5. Saving and loading a model"
      ],
      "metadata": {
        "id": "12oLMojsx1Sp"
      }
    },
    {
      "cell_type": "code",
      "execution_count": 1,
      "metadata": {
        "id": "nCQeNDGVxOZ-"
      },
      "outputs": [],
      "source": [
        "import torch\n",
        "from torch import nn\n",
        "import matplotlib.pyplot as plt"
      ]
    },
    {
      "cell_type": "code",
      "source": [
        "# For device agnostic code\n",
        "device = 'cuda' if torch.cuda.is_available() else 'cpu'\n",
        "print(f'Using device: {device}')"
      ],
      "metadata": {
        "colab": {
          "base_uri": "https://localhost:8080/"
        },
        "id": "pSe-iCDCyFRU",
        "outputId": "10fc6362-abac-4475-a6b7-69d54525ff30"
      },
      "execution_count": 2,
      "outputs": [
        {
          "output_type": "stream",
          "name": "stdout",
          "text": [
            "Using device: cuda\n"
          ]
        }
      ]
    },
    {
      "cell_type": "markdown",
      "source": [
        "## Data (prepare and load)"
      ],
      "metadata": {
        "id": "yCZaKKmfyeio"
      }
    },
    {
      "cell_type": "code",
      "source": [
        "weight = 0.7\n",
        "bias = 0.3\n",
        "\n",
        "X = torch.arange(0, 1, 0.02).unsqueeze(dim=1)\n",
        "X.to(device)\n",
        "\n",
        "y = weight * X + bias\n",
        "y.to(device)\n",
        "\n",
        "X[:5], y[:5]"
      ],
      "metadata": {
        "colab": {
          "base_uri": "https://localhost:8080/"
        },
        "id": "4yoMGIIty3HH",
        "outputId": "85dc6382-678c-4cab-ea0b-07701376df3b"
      },
      "execution_count": 3,
      "outputs": [
        {
          "output_type": "execute_result",
          "data": {
            "text/plain": [
              "(tensor([[0.0000],\n",
              "         [0.0200],\n",
              "         [0.0400],\n",
              "         [0.0600],\n",
              "         [0.0800]]),\n",
              " tensor([[0.3000],\n",
              "         [0.3140],\n",
              "         [0.3280],\n",
              "         [0.3420],\n",
              "         [0.3560]]))"
            ]
          },
          "metadata": {},
          "execution_count": 3
        }
      ]
    },
    {
      "cell_type": "code",
      "source": [
        "split = int(0.8 * len(X))\n",
        "\n",
        "X_train, y_train = X[:split], y[:split]\n",
        "X_test, y_test = X[split:], y[split:]\n",
        "\n",
        "X_train = X_train.to(device)\n",
        "y_train = y_train.to(device)\n",
        "X_test = X_test.to(device)\n",
        "y_test = y_test.to(device)\n",
        "\n",
        "X_train[:5], y_train[:5], X_test[:5], y_test[:5]"
      ],
      "metadata": {
        "colab": {
          "base_uri": "https://localhost:8080/"
        },
        "id": "eXq1hFWYz38C",
        "outputId": "fd48de52-7456-4bb5-aef3-f280de5d6dce"
      },
      "execution_count": 4,
      "outputs": [
        {
          "output_type": "execute_result",
          "data": {
            "text/plain": [
              "(tensor([[0.0000],\n",
              "         [0.0200],\n",
              "         [0.0400],\n",
              "         [0.0600],\n",
              "         [0.0800]], device='cuda:0'),\n",
              " tensor([[0.3000],\n",
              "         [0.3140],\n",
              "         [0.3280],\n",
              "         [0.3420],\n",
              "         [0.3560]], device='cuda:0'),\n",
              " tensor([[0.8000],\n",
              "         [0.8200],\n",
              "         [0.8400],\n",
              "         [0.8600],\n",
              "         [0.8800]], device='cuda:0'),\n",
              " tensor([[0.8600],\n",
              "         [0.8740],\n",
              "         [0.8880],\n",
              "         [0.9020],\n",
              "         [0.9160]], device='cuda:0'))"
            ]
          },
          "metadata": {},
          "execution_count": 4
        }
      ]
    },
    {
      "cell_type": "code",
      "source": [
        "def plot_predictions(train_data=X_train.cpu(),\n",
        "                     train_labels=y_train.cpu(),\n",
        "                     test_data=X_test.cpu(),\n",
        "                     test_labels=y_test.cpu(),\n",
        "                     predictions=None):\n",
        "  \"\"\"\n",
        "  Plots training data, test data and compares predictions.\n",
        "  \"\"\"\n",
        "  plt.figure(figsize=(10, 7))\n",
        "\n",
        "  # Plot training data in blue\n",
        "  plt.scatter(train_data, train_labels, c=\"b\", s=4, label=\"Training data\")\n",
        "\n",
        "  # Plot test data in green\n",
        "  plt.scatter(test_data, test_labels, c=\"g\", s=4, label=\"Testing data\")\n",
        "\n",
        "  # Are there predictions?\n",
        "  if predictions is not None:\n",
        "    # Plot the predictions if they exist\n",
        "    plt.scatter(test_data, predictions, c=\"r\", s=4, label=\"Predictions\")\n",
        "\n",
        "  # Show the legend\n",
        "  plt.legend(prop={\"size\": 14});"
      ],
      "metadata": {
        "id": "bFs0fSXmzK3l"
      },
      "execution_count": 5,
      "outputs": []
    },
    {
      "cell_type": "code",
      "source": [
        "plot_predictions()"
      ],
      "metadata": {
        "colab": {
          "base_uri": "https://localhost:8080/",
          "height": 599
        },
        "id": "9KyoV_nZInCE",
        "outputId": "51634241-78d0-4673-ad3f-15fa286e520e"
      },
      "execution_count": 6,
      "outputs": [
        {
          "output_type": "display_data",
          "data": {
            "text/plain": [
              "<Figure size 1000x700 with 1 Axes>"
            ],
            "image/png": "[encoded data removed]"
          },
          "metadata": {}
        }
      ]
    },
    {
      "cell_type": "markdown",
      "source": [
        "## Building a model"
      ],
      "metadata": {
        "id": "7-hSg3Zz02YX"
      }
    },
    {
      "cell_type": "code",
      "source": [
        "class LinearModel(nn.Module):\n",
        "  def __init__(self):\n",
        "    super().__init__()\n",
        "\n",
        "    self.linear_layer = nn.Linear(in_features = 1, out_features = 1)\n",
        "\n",
        "  def forward(self, x):\n",
        "    return self.linear_layer(x)\n",
        "\n",
        "\n",
        "model = LinearModel()\n",
        "model.to(device)\n",
        "model.state_dict()"
      ],
      "metadata": {
        "colab": {
          "base_uri": "https://localhost:8080/"
        },
        "id": "i0DdPsVq1AiB",
        "outputId": "4c9046a4-25e8-43d1-c99a-295063663ca2"
      },
      "execution_count": 7,
      "outputs": [
        {
          "output_type": "execute_result",
          "data": {
            "text/plain": [
              "OrderedDict([('linear_layer.weight', tensor([[0.5216]], device='cuda:0')),\n",
              "             ('linear_layer.bias', tensor([0.5855], device='cuda:0'))])"
            ]
          },
          "metadata": {},
          "execution_count": 7
        }
      ]
    },
    {
      "cell_type": "markdown",
      "source": [
        "## Training the model\n",
        "- Loss function\n",
        "- Optimizer\n",
        "- Training loop\n",
        "- Testing loop"
      ],
      "metadata": {
        "id": "bSjGQL5o2Xpq"
      }
    },
    {
      "cell_type": "code",
      "source": [
        "loss_fn = nn.L1Loss()\n",
        "optimizer = torch.optim.SGD(params = model.parameters(), lr = 0.01)"
      ],
      "metadata": {
        "id": "0oUn6tPy24sM"
      },
      "execution_count": 8,
      "outputs": []
    },
    {
      "cell_type": "code",
      "source": [
        "EPOCHS = 1000\n",
        "for epoch in range(EPOCHS):\n",
        "  model.train()\n",
        "  # Training\n",
        "  # 1. Forward Pass\n",
        "  y_pred = model(X_train)\n",
        "\n",
        "  # 2. Calculate Loss\n",
        "  train_loss = loss_fn(y_pred, y_train)\n",
        "\n",
        "  # 3. Optimizer Zero grad\n",
        "  optimizer.zero_grad()\n",
        "\n",
        "  # 4. Back propagation\n",
        "  train_loss.backward()\n",
        "\n",
        "  # 5. Optimizer step\n",
        "  optimizer.step()\n",
        "\n",
        "\n",
        "  # Testing\n",
        "  model.eval()\n",
        "  with torch.inference_mode():\n",
        "    test_pred = model(X_test)\n",
        "    test_loss = loss_fn(test_pred, y_test)\n",
        "\n",
        "  if epoch % 100 == 0:\n",
        "    print(f'Epoch: {epoch} | Train Loss: {train_loss} | Test Loss: {test_loss}')\n"
      ],
      "metadata": {
        "colab": {
          "base_uri": "https://localhost:8080/"
        },
        "id": "UUIQH2dH3ilJ",
        "outputId": "82ba4382-e1a3-4a42-edfc-e38c5fa8a8ee"
      },
      "execution_count": 9,
      "outputs": [
        {
          "output_type": "stream",
          "name": "stdout",
          "text": [
            "Epoch: 0 | Train Loss: 0.21596436202526093 | Test Loss: 0.11331415176391602\n",
            "Epoch: 100 | Train Loss: 0.02093186229467392 | Test Loss: 0.04810917004942894\n",
            "Epoch: 200 | Train Loss: 0.004470284562557936 | Test Loss: 0.010994470678269863\n",
            "Epoch: 300 | Train Loss: 0.004470284562557936 | Test Loss: 0.010994470678269863\n",
            "Epoch: 400 | Train Loss: 0.004470284562557936 | Test Loss: 0.010994470678269863\n",
            "Epoch: 500 | Train Loss: 0.004470284562557936 | Test Loss: 0.010994470678269863\n",
            "Epoch: 600 | Train Loss: 0.004470284562557936 | Test Loss: 0.010994470678269863\n",
            "Epoch: 700 | Train Loss: 0.004470284562557936 | Test Loss: 0.010994470678269863\n",
            "Epoch: 800 | Train Loss: 0.004470284562557936 | Test Loss: 0.010994470678269863\n",
            "Epoch: 900 | Train Loss: 0.004470284562557936 | Test Loss: 0.010994470678269863\n"
          ]
        }
      ]
    },
    {
      "cell_type": "code",
      "source": [
        "model.state_dict(), (weight, bias)"
      ],
      "metadata": {
        "colab": {
          "base_uri": "https://localhost:8080/"
        },
        "id": "8aNODnp355Dd",
        "outputId": "ddbd86b8-e1af-4c4e-d67f-5341d010849f"
      },
      "execution_count": 10,
      "outputs": [
        {
          "output_type": "execute_result",
          "data": {
            "text/plain": [
              "(OrderedDict([('linear_layer.weight', tensor([[0.6960]], device='cuda:0')),\n",
              "              ('linear_layer.bias', tensor([0.3060], device='cuda:0'))]),\n",
              " (0.7, 0.3))"
            ]
          },
          "metadata": {},
          "execution_count": 10
        }
      ]
    },
    {
      "cell_type": "markdown",
      "source": [
        "## Making predictions and evaluting a model (inference)"
      ],
      "metadata": {
        "id": "I6M6DAbD7fgM"
      }
    },
    {
      "cell_type": "code",
      "source": [
        "model.eval()\n",
        "\n",
        "with torch.inference_mode():\n",
        "  y_preds = model(X_test)\n",
        "\n",
        "y_preds, y_test"
      ],
      "metadata": {
        "colab": {
          "base_uri": "https://localhost:8080/"
        },
        "id": "wu0n9wpM7fdU",
        "outputId": "14f98adb-ec2e-48e3-ba19-ff13ba7f0ea1"
      },
      "execution_count": 11,
      "outputs": [
        {
          "output_type": "execute_result",
          "data": {
            "text/plain": [
              "(tensor([[0.8628],\n",
              "         [0.8768],\n",
              "         [0.8907],\n",
              "         [0.9046],\n",
              "         [0.9185],\n",
              "         [0.9324],\n",
              "         [0.9464],\n",
              "         [0.9603],\n",
              "         [0.9742],\n",
              "         [0.9881]], device='cuda:0'),\n",
              " tensor([[0.8600],\n",
              "         [0.8740],\n",
              "         [0.8880],\n",
              "         [0.9020],\n",
              "         [0.9160],\n",
              "         [0.9300],\n",
              "         [0.9440],\n",
              "         [0.9580],\n",
              "         [0.9720],\n",
              "         [0.9860]], device='cuda:0'))"
            ]
          },
          "metadata": {},
          "execution_count": 11
        }
      ]
    },
    {
      "cell_type": "code",
      "source": [
        "plot_predictions(predictions=y_preds.cpu())"
      ],
      "metadata": {
        "colab": {
          "base_uri": "https://localhost:8080/",
          "height": 599
        },
        "id": "Rn0H8A9R6yMd",
        "outputId": "5bfeac18-da9a-430c-92c4-8456ff3bafe6"
      },
      "execution_count": 12,
      "outputs": [
        {
          "output_type": "display_data",
          "data": {
            "text/plain": [
              "<Figure size 1000x700 with 1 Axes>"
            ],
            "image/png": "[encoded data removed]"
          },
          "metadata": {}
        }
      ]
    },
    {
      "cell_type": "markdown",
      "source": [
        "## Saving and loading a model"
      ],
      "metadata": {
        "id": "97Cj919p7Cl3"
      }
    },
    {
      "cell_type": "code",
      "source": [
        "from pathlib import Path\n",
        "\n",
        "DIR_PATH = Path('models')\n",
        "DIR_PATH.mkdir(parents=True, exist_ok=True)\n",
        "\n",
        "MODEL_PATH = DIR_PATH / 'model.pth'"
      ],
      "metadata": {
        "id": "OC_Wfngg-Xvi"
      },
      "execution_count": 13,
      "outputs": []
    },
    {
      "cell_type": "code",
      "source": [
        "print(f\"Saving model to: {MODEL_PATH}\")\n",
        "torch.save(obj=model.state_dict(), f=MODEL_PATH)"
      ],
      "metadata": {
        "colab": {
          "base_uri": "https://localhost:8080/"
        },
        "id": "Ivoh7USKDyor",
        "outputId": "2637365b-06dc-406b-db70-6127636cdd9e"
      },
      "execution_count": 14,
      "outputs": [
        {
          "output_type": "stream",
          "name": "stdout",
          "text": [
            "Saving model to: models/model.pth\n"
          ]
        }
      ]
    },
    {
      "cell_type": "code",
      "source": [
        "loaded_model = LinearModel()\n",
        "loaded_model.load_state_dict(torch.load(MODEL_PATH))\n",
        "loaded_model.to(device)"
      ],
      "metadata": {
        "colab": {
          "base_uri": "https://localhost:8080/"
        },
        "id": "4CV4YyS3EQ5r",
        "outputId": "99bc07af-d686-4b17-c55d-4d2f0e4b57cc"
      },
      "execution_count": 15,
      "outputs": [
        {
          "output_type": "execute_result",
          "data": {
            "text/plain": [
              "LinearModel(\n",
              "  (linear_layer): Linear(in_features=1, out_features=1, bias=True)\n",
              ")"
            ]
          },
          "metadata": {},
          "execution_count": 15
        }
      ]
    },
    {
      "cell_type": "code",
      "source": [
        "model.eval()\n",
        "\n",
        "with torch.inference_mode():\n",
        "  y_preds_loaded = loaded_model(X_test)\n",
        "\n",
        "y_preds == y_preds_loaded"
      ],
      "metadata": {
        "colab": {
          "base_uri": "https://localhost:8080/"
        },
        "id": "4Ocn4tQbE-gd",
        "outputId": "062096b5-e8ea-4652-e5f9-9f961ba1a90f"
      },
      "execution_count": 16,
      "outputs": [
        {
          "output_type": "execute_result",
          "data": {
            "text/plain": [
              "tensor([[True],\n",
              "        [True],\n",
              "        [True],\n",
              "        [True],\n",
              "        [True],\n",
              "        [True],\n",
              "        [True],\n",
              "        [True],\n",
              "        [True],\n",
              "        [True]], device='cuda:0')"
            ]
          },
          "metadata": {},
          "execution_count": 16
        }
      ]
    }
  ]
}