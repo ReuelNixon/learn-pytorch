{
  "nbformat": 4,
  "nbformat_minor": 0,
  "metadata": {
    "colab": {
      "provenance": [],
      "authorship_tag": "ABX9TyNYbrkdcHW4VdC/qaM23WGk",
      "include_colab_link": true
    },
    "kernelspec": {
      "name": "python3",
      "display_name": "Python 3"
    },
    "language_info": {
      "name": "python"
    }
  },
  "cells": [
    {
      "cell_type": "markdown",
      "metadata": {
        "id": "view-in-github",
        "colab_type": "text"
      },
      "source": [
        "<a href=\"https://colab.research.google.com/github/ReuelNixon/learn-pytorch/blob/main/00_fundamentals.ipynb\" target=\"_parent\"><img src=\"https://colab.research.google.com/assets/colab-badge.svg\" alt=\"Open In Colab\"/></a>"
      ]
    },
    {
      "cell_type": "markdown",
      "source": [
        "### Some basic tensor instantiation methods"
      ],
      "metadata": {
        "id": "NvDmDs-7u0Q0"
      }
    },
    {
      "cell_type": "code",
      "execution_count": null,
      "metadata": {
        "id": "KA23HAsHXsss"
      },
      "outputs": [],
      "source": [
        "import torch"
      ]
    },
    {
      "cell_type": "code",
      "source": [
        "t = torch.tensor([1,2,3])\n",
        "t"
      ],
      "metadata": {
        "id": "gsigu6_-wXqd",
        "colab": {
          "base_uri": "https://localhost:8080/"
        },
        "outputId": "bea46b99-583e-48c7-9b6c-feb32a8a593e"
      },
      "execution_count": null,
      "outputs": [
        {
          "output_type": "execute_result",
          "data": {
            "text/plain": [
              "tensor([1, 2, 3])"
            ]
          },
          "metadata": {},
          "execution_count": 2
        }
      ]
    },
    {
      "cell_type": "code",
      "source": [
        "MATRIX = torch.rand(3,3)\n",
        "MATRIX"
      ],
      "metadata": {
        "colab": {
          "base_uri": "https://localhost:8080/"
        },
        "id": "QuFSlJLzd9lA",
        "outputId": "38d2340b-b8fc-49f3-a171-735151d5025c"
      },
      "execution_count": null,
      "outputs": [
        {
          "output_type": "execute_result",
          "data": {
            "text/plain": [
              "tensor([[0.4074, 0.5456, 0.7296],\n",
              "        [0.5914, 0.5402, 0.5410],\n",
              "        [0.4798, 0.7837, 0.8656]])"
            ]
          },
          "metadata": {},
          "execution_count": 3
        }
      ]
    },
    {
      "cell_type": "code",
      "source": [
        "torch.zeros(3,3)"
      ],
      "metadata": {
        "colab": {
          "base_uri": "https://localhost:8080/"
        },
        "id": "ucvG3NoLgkIa",
        "outputId": "ff87c72d-3e4d-4673-911c-1069c22b921f"
      },
      "execution_count": null,
      "outputs": [
        {
          "output_type": "execute_result",
          "data": {
            "text/plain": [
              "tensor([[0., 0., 0.],\n",
              "        [0., 0., 0.],\n",
              "        [0., 0., 0.]])"
            ]
          },
          "metadata": {},
          "execution_count": 4
        }
      ]
    },
    {
      "cell_type": "code",
      "source": [
        "torch.ones(3,3)"
      ],
      "metadata": {
        "colab": {
          "base_uri": "https://localhost:8080/"
        },
        "id": "fUl29XwOgrnC",
        "outputId": "9b5724ac-6e73-4f0a-e240-eb3bac3b9b66"
      },
      "execution_count": null,
      "outputs": [
        {
          "output_type": "execute_result",
          "data": {
            "text/plain": [
              "tensor([[1., 1., 1.],\n",
              "        [1., 1., 1.],\n",
              "        [1., 1., 1.]])"
            ]
          },
          "metadata": {},
          "execution_count": 5
        }
      ]
    },
    {
      "cell_type": "code",
      "source": [
        "torch.arange(start = 1, end = 10, step = 2)"
      ],
      "metadata": {
        "colab": {
          "base_uri": "https://localhost:8080/"
        },
        "id": "HOHL7VQeguXp",
        "outputId": "ed88387b-0efd-45ab-b6ae-b4f0c5b27f6c"
      },
      "execution_count": null,
      "outputs": [
        {
          "output_type": "execute_result",
          "data": {
            "text/plain": [
              "tensor([1, 3, 5, 7, 9])"
            ]
          },
          "metadata": {},
          "execution_count": 6
        }
      ]
    },
    {
      "cell_type": "code",
      "source": [
        "torch.zeros_like(MATRIX)"
      ],
      "metadata": {
        "colab": {
          "base_uri": "https://localhost:8080/"
        },
        "id": "GMBvJEW3iD0X",
        "outputId": "7c4ae349-05b5-4dd2-d8a9-778f9f781e28"
      },
      "execution_count": null,
      "outputs": [
        {
          "output_type": "execute_result",
          "data": {
            "text/plain": [
              "tensor([[0., 0., 0.],\n",
              "        [0., 0., 0.],\n",
              "        [0., 0., 0.]])"
            ]
          },
          "metadata": {},
          "execution_count": 7
        }
      ]
    },
    {
      "cell_type": "code",
      "source": [
        "torch.ones_like(t)"
      ],
      "metadata": {
        "colab": {
          "base_uri": "https://localhost:8080/"
        },
        "id": "zA54W9U7h8QH",
        "outputId": "b717e5ba-fe0b-4ad0-b644-62692ac8020f"
      },
      "execution_count": null,
      "outputs": [
        {
          "output_type": "execute_result",
          "data": {
            "text/plain": [
              "tensor([1, 1, 1])"
            ]
          },
          "metadata": {},
          "execution_count": 8
        }
      ]
    },
    {
      "cell_type": "code",
      "source": [
        "t = torch.tensor([1,2,3],\n",
        "                 dtype = torch.float16,\n",
        "                 device = \"cpu\",\n",
        "                 requires_grad = False)"
      ],
      "metadata": {
        "id": "xnEPJZBqvb0B"
      },
      "execution_count": null,
      "outputs": []
    },
    {
      "cell_type": "markdown",
      "source": [
        "### Getting information about the tensor"
      ],
      "metadata": {
        "id": "okiif9SniKhs"
      }
    },
    {
      "cell_type": "code",
      "source": [
        "print(t)\n",
        "print(f\"Datatype of tensor: {t.dtype}\")\n",
        "print(f\"Dimension of tensor: {t.ndim}\")\n",
        "print(f\"Shape of tensor: {t.shape}\")\n",
        "print(f\"Device tensor is on: {t.device}\")"
      ],
      "metadata": {
        "colab": {
          "base_uri": "https://localhost:8080/"
        },
        "id": "rC2NFDCzurOn",
        "outputId": "18cb84a7-c5e9-4c38-db35-5be974d4dc78"
      },
      "execution_count": null,
      "outputs": [
        {
          "output_type": "stream",
          "name": "stdout",
          "text": [
            "tensor([1., 2., 3.], dtype=torch.float16)\n",
            "Datatype of tensor: torch.float16\n",
            "Dimension of tensor: 1\n",
            "Shape of tensor: torch.Size([3])\n",
            "Device tensor is on: cpu\n"
          ]
        }
      ]
    },
    {
      "cell_type": "markdown",
      "source": [
        "`tensor.shape` is equivalent to `tensor.size()`"
      ],
      "metadata": {
        "id": "EkOEFoUbwU83"
      }
    },
    {
      "cell_type": "markdown",
      "source": [
        "### Most frequent errors while dealing with tensors\n",
        "1. Tensors not right datatype\n",
        "2. Tensors not right shape\n",
        "3. Tensors not on the right device"
      ],
      "metadata": {
        "id": "ltptj5sawTIL"
      }
    },
    {
      "cell_type": "markdown",
      "source": [
        "### Tensor (Matrix) operations\n",
        "\n",
        "#### Rules for elementwise operations on tensors\n",
        "1. Same shape\n",
        "2. Some datatype in some rare circumstances\n",
        "\n",
        "#### Rules for performing matrix mutliplication (dot product)\n",
        "\n",
        "1. The inner dimensions must match:\n",
        "  - (3, 2) @ (3, 2) won't work\n",
        "  - (2, 3) @ (3, 2) will work\n",
        "  - (3, 2) @ (2, 3) will work\n",
        "\n",
        "- The resulting matrix has the shape of the outer dimensions:\n",
        "  - (2, 3) @ (3, 2) -> (2, 2)\n",
        "  - (3, 2) @ (2, 3) -> (3, 3)"
      ],
      "metadata": {
        "id": "yR43NV5ix5lq"
      }
    },
    {
      "cell_type": "code",
      "source": [
        "t1 = torch.rand(3,3)\n",
        "t2 = torch.rand(3,3)\n",
        "\n",
        "t3 = torch.rand(4,4)\n",
        "\n",
        "print(t1)\n",
        "print(t2)\n",
        "print(t3)"
      ],
      "metadata": {
        "colab": {
          "base_uri": "https://localhost:8080/"
        },
        "id": "osSNR0Pjx9Bs",
        "outputId": "19336175-20d6-476a-b590-6e48e2c509a2"
      },
      "execution_count": null,
      "outputs": [
        {
          "output_type": "stream",
          "name": "stdout",
          "text": [
            "tensor([[0.6204, 0.8354, 0.6103],\n",
            "        [0.1006, 0.3674, 0.2341],\n",
            "        [0.1202, 0.7532, 0.3900]])\n",
            "tensor([[0.9456, 0.3394, 0.8210],\n",
            "        [0.3009, 0.6934, 0.4644],\n",
            "        [0.4820, 0.8551, 0.8311]])\n",
            "tensor([[0.5115, 0.6120, 0.0447, 0.5105],\n",
            "        [0.4498, 0.5705, 0.1088, 0.5890],\n",
            "        [0.8459, 0.2848, 0.4843, 0.5336],\n",
            "        [0.2069, 0.7685, 0.7725, 0.8574]])\n"
          ]
        }
      ]
    },
    {
      "cell_type": "code",
      "source": [
        "t1 + 1"
      ],
      "metadata": {
        "colab": {
          "base_uri": "https://localhost:8080/"
        },
        "id": "PLU8RdK-yR8O",
        "outputId": "09809777-14a8-4325-b124-05c23157ef42"
      },
      "execution_count": null,
      "outputs": [
        {
          "output_type": "execute_result",
          "data": {
            "text/plain": [
              "tensor([[1.6204, 1.8354, 1.6103],\n",
              "        [1.1006, 1.3674, 1.2341],\n",
              "        [1.1202, 1.7532, 1.3900]])"
            ]
          },
          "metadata": {},
          "execution_count": 12
        }
      ]
    },
    {
      "cell_type": "code",
      "source": [
        "t1 - 1"
      ],
      "metadata": {
        "colab": {
          "base_uri": "https://localhost:8080/"
        },
        "id": "4LF0Ur1_ybdL",
        "outputId": "6fa5a9ae-f10f-46d4-b0b6-409d87bbf5b8"
      },
      "execution_count": null,
      "outputs": [
        {
          "output_type": "execute_result",
          "data": {
            "text/plain": [
              "tensor([[-0.3796, -0.1646, -0.3897],\n",
              "        [-0.8994, -0.6326, -0.7659],\n",
              "        [-0.8798, -0.2468, -0.6100]])"
            ]
          },
          "metadata": {},
          "execution_count": 13
        }
      ]
    },
    {
      "cell_type": "code",
      "source": [
        "t1 * 2"
      ],
      "metadata": {
        "colab": {
          "base_uri": "https://localhost:8080/"
        },
        "id": "k2NDxTfeydAv",
        "outputId": "845106c8-23e9-42c7-ba45-e995c53e7696"
      },
      "execution_count": null,
      "outputs": [
        {
          "output_type": "execute_result",
          "data": {
            "text/plain": [
              "tensor([[1.2407, 1.6708, 1.2206],\n",
              "        [0.2011, 0.7348, 0.4682],\n",
              "        [0.2403, 1.5064, 0.7800]])"
            ]
          },
          "metadata": {},
          "execution_count": 14
        }
      ]
    },
    {
      "cell_type": "code",
      "source": [
        "t1 / 2"
      ],
      "metadata": {
        "colab": {
          "base_uri": "https://localhost:8080/"
        },
        "id": "xFch91Jgye4a",
        "outputId": "377466e8-9470-481d-d193-86d68456b52a"
      },
      "execution_count": null,
      "outputs": [
        {
          "output_type": "execute_result",
          "data": {
            "text/plain": [
              "tensor([[0.3102, 0.4177, 0.3051],\n",
              "        [0.0503, 0.1837, 0.1171],\n",
              "        [0.0601, 0.3766, 0.1950]])"
            ]
          },
          "metadata": {},
          "execution_count": 15
        }
      ]
    },
    {
      "cell_type": "code",
      "source": [
        "t1 + t2"
      ],
      "metadata": {
        "colab": {
          "base_uri": "https://localhost:8080/"
        },
        "id": "VLVk0TKUyiFo",
        "outputId": "0a52e6cc-779a-4f93-e09a-f6b9cc525c87"
      },
      "execution_count": null,
      "outputs": [
        {
          "output_type": "execute_result",
          "data": {
            "text/plain": [
              "tensor([[1.5659, 1.1748, 1.4312],\n",
              "        [0.4014, 1.0607, 0.6985],\n",
              "        [0.6021, 1.6083, 1.2211]])"
            ]
          },
          "metadata": {},
          "execution_count": 16
        }
      ]
    },
    {
      "cell_type": "code",
      "source": [
        "# Throws an error because of mismatching shape\n",
        "# t1 + t3"
      ],
      "metadata": {
        "colab": {
          "base_uri": "https://localhost:8080/",
          "height": 197
        },
        "id": "TaWuxw1VynxN",
        "outputId": "4051c79b-fd35-4815-bc7c-c268faae2c09"
      },
      "execution_count": null,
      "outputs": [
        {
          "output_type": "error",
          "ename": "RuntimeError",
          "evalue": "ignored",
          "traceback": [
            "\u001b[0;31m---------------------------------------------------------------------------\u001b[0m",
            "\u001b[0;31mRuntimeError\u001b[0m                              Traceback (most recent call last)",
            "\u001b[0;32m<ipython-input-52-01da3f977a11>\u001b[0m in \u001b[0;36m<cell line: 2>\u001b[0;34m()\u001b[0m\n\u001b[1;32m      1\u001b[0m \u001b[0;31m# Throws an error because of mismatching shape\u001b[0m\u001b[0;34m\u001b[0m\u001b[0;34m\u001b[0m\u001b[0m\n\u001b[0;32m----> 2\u001b[0;31m \u001b[0mt1\u001b[0m \u001b[0;34m+\u001b[0m \u001b[0mt3\u001b[0m\u001b[0;34m\u001b[0m\u001b[0;34m\u001b[0m\u001b[0m\n\u001b[0m",
            "\u001b[0;31mRuntimeError\u001b[0m: The size of tensor a (3) must match the size of tensor b (2) at non-singleton dimension 0"
          ]
        }
      ]
    },
    {
      "cell_type": "code",
      "source": [
        "t3 = torch.rand(2,3)\n",
        "t4 = torch.rand(2,3)\n",
        "print(t3)\n",
        "print(t4)"
      ],
      "metadata": {
        "colab": {
          "base_uri": "https://localhost:8080/"
        },
        "id": "BhBJIs_my0GP",
        "outputId": "38830b63-7e69-44b9-8c0e-6e797f5ac105"
      },
      "execution_count": null,
      "outputs": [
        {
          "output_type": "stream",
          "name": "stdout",
          "text": [
            "tensor([[0.9035, 0.8699, 0.0256],\n",
            "        [0.4976, 0.0011, 0.4428]])\n",
            "tensor([[0.8672, 0.4999, 0.9967],\n",
            "        [0.6473, 0.9440, 0.0995]])\n"
          ]
        }
      ]
    },
    {
      "cell_type": "code",
      "source": [
        "#Throws an error because of violating the rule for matrix multiplication\n",
        "# t3 @ t4"
      ],
      "metadata": {
        "colab": {
          "base_uri": "https://localhost:8080/",
          "height": 197
        },
        "id": "28L6SUjE0xz2",
        "outputId": "9c1ad861-9246-4089-8863-43053c36f6c6"
      },
      "execution_count": null,
      "outputs": [
        {
          "output_type": "error",
          "ename": "RuntimeError",
          "evalue": "ignored",
          "traceback": [
            "\u001b[0;31m---------------------------------------------------------------------------\u001b[0m",
            "\u001b[0;31mRuntimeError\u001b[0m                              Traceback (most recent call last)",
            "\u001b[0;32m<ipython-input-51-8e874766490f>\u001b[0m in \u001b[0;36m<cell line: 2>\u001b[0;34m()\u001b[0m\n\u001b[1;32m      1\u001b[0m \u001b[0;31m#Throws an error because of violating the rule for matrix multiplication\u001b[0m\u001b[0;34m\u001b[0m\u001b[0;34m\u001b[0m\u001b[0m\n\u001b[0;32m----> 2\u001b[0;31m \u001b[0mt3\u001b[0m \u001b[0;34m@\u001b[0m \u001b[0mt4\u001b[0m\u001b[0;34m\u001b[0m\u001b[0;34m\u001b[0m\u001b[0m\n\u001b[0m",
            "\u001b[0;31mRuntimeError\u001b[0m: mat1 and mat2 shapes cannot be multiplied (2x3 and 2x3)"
          ]
        }
      ]
    },
    {
      "cell_type": "code",
      "source": [
        "t3.shape, t4.shape"
      ],
      "metadata": {
        "colab": {
          "base_uri": "https://localhost:8080/"
        },
        "id": "d9hSYSU31Rt3",
        "outputId": "e6436e83-b4cc-4f8c-9a89-7c36ebc3e7a7"
      },
      "execution_count": null,
      "outputs": [
        {
          "output_type": "execute_result",
          "data": {
            "text/plain": [
              "(torch.Size([2, 3]), torch.Size([2, 3]))"
            ]
          },
          "metadata": {},
          "execution_count": 20
        }
      ]
    },
    {
      "cell_type": "markdown",
      "source": [
        "To take the dot product of the two matrices we can transpose of either of the matrices"
      ],
      "metadata": {
        "id": "Kx_2JABI1YO6"
      }
    },
    {
      "cell_type": "code",
      "source": [
        "t3 @ t4.T"
      ],
      "metadata": {
        "colab": {
          "base_uri": "https://localhost:8080/"
        },
        "id": "b9YJsqJW1kq_",
        "outputId": "1eff06fb-d771-492a-9b76-5e16362dcce5"
      },
      "execution_count": null,
      "outputs": [
        {
          "output_type": "execute_result",
          "data": {
            "text/plain": [
              "tensor([[1.2439, 1.4086],\n",
              "        [0.8735, 0.3672]])"
            ]
          },
          "metadata": {},
          "execution_count": 21
        }
      ]
    },
    {
      "cell_type": "markdown",
      "source": [
        "### Finding the min, max, mean, sum, etc (tensor aggregation)"
      ],
      "metadata": {
        "id": "gKD4deOv1oQR"
      }
    },
    {
      "cell_type": "code",
      "source": [
        "t5 = torch.tensor([3,1,4,6,2,7,9,5,8])"
      ],
      "metadata": {
        "id": "BWTL3eFG1xKD"
      },
      "execution_count": null,
      "outputs": []
    },
    {
      "cell_type": "code",
      "source": [
        "print(t5)\n",
        "print(f\"min of tensor: {t5.min()}\")\n",
        "print(f\"max of tensor: {t5.max()}\")\n",
        "print(f\"sum of tensor: {t5.sum()}\")"
      ],
      "metadata": {
        "colab": {
          "base_uri": "https://localhost:8080/"
        },
        "id": "xxriCkod2UlX",
        "outputId": "18a305bc-1159-4cdc-c0ff-cf4941257882"
      },
      "execution_count": null,
      "outputs": [
        {
          "output_type": "stream",
          "name": "stdout",
          "text": [
            "tensor([3, 1, 4, 6, 2, 7, 9, 5, 8])\n",
            "min of tensor: 1\n",
            "max of tensor: 9\n",
            "sum of tensor: 45\n"
          ]
        }
      ]
    },
    {
      "cell_type": "code",
      "source": [
        "# This will throw an error because mean can only be calculated for the tensors with float dtype\n",
        "# print(f\"mean of tensor: {t5.mean()}\")\n",
        "\n",
        "print(f\"mean of tensor: {t5.type(torch.float32).mean()}\")"
      ],
      "metadata": {
        "colab": {
          "base_uri": "https://localhost:8080/",
          "height": 232
        },
        "id": "OsHj_TjxAmnT",
        "outputId": "62eab255-bb14-47c7-acb5-712a4d1430b9"
      },
      "execution_count": null,
      "outputs": [
        {
          "output_type": "error",
          "ename": "RuntimeError",
          "evalue": "ignored",
          "traceback": [
            "\u001b[0;31m---------------------------------------------------------------------------\u001b[0m",
            "\u001b[0;31mRuntimeError\u001b[0m                              Traceback (most recent call last)",
            "\u001b[0;32m<ipython-input-50-b580adbfe5f9>\u001b[0m in \u001b[0;36m<cell line: 2>\u001b[0;34m()\u001b[0m\n\u001b[1;32m      1\u001b[0m \u001b[0;31m# This will throw an error because mean can only be calculated for the tensors with float dtype\u001b[0m\u001b[0;34m\u001b[0m\u001b[0;34m\u001b[0m\u001b[0m\n\u001b[0;32m----> 2\u001b[0;31m \u001b[0mprint\u001b[0m\u001b[0;34m(\u001b[0m\u001b[0;34mf\"mean of tensor: {t5.mean()}\"\u001b[0m\u001b[0;34m)\u001b[0m\u001b[0;34m\u001b[0m\u001b[0;34m\u001b[0m\u001b[0m\n\u001b[0m\u001b[1;32m      3\u001b[0m \u001b[0;34m\u001b[0m\u001b[0m\n\u001b[1;32m      4\u001b[0m \u001b[0mprint\u001b[0m\u001b[0;34m(\u001b[0m\u001b[0;34mf\"mean of tensor: {t5.type(torch.float32).mean()}\"\u001b[0m\u001b[0;34m)\u001b[0m\u001b[0;34m\u001b[0m\u001b[0;34m\u001b[0m\u001b[0m\n",
            "\u001b[0;31mRuntimeError\u001b[0m: mean(): could not infer output dtype. Input dtype must be either a floating point or complex dtype. Got: Long"
          ]
        }
      ]
    },
    {
      "cell_type": "markdown",
      "source": [
        "### Finding the positional min and max"
      ],
      "metadata": {
        "id": "yuFQZrgb2zNz"
      }
    },
    {
      "cell_type": "code",
      "source": [
        "print(t5)\n",
        "print(f\"min of tensor is pesenst at the index: {t5.argmin()}\")\n",
        "print(f\"max of tensor is pesenst at the index: {t5.argmax()}\")"
      ],
      "metadata": {
        "colab": {
          "base_uri": "https://localhost:8080/"
        },
        "id": "t1iODnDv3CF6",
        "outputId": "e71be439-bcd6-45f6-ade7-cbaa7670b876"
      },
      "execution_count": null,
      "outputs": [
        {
          "output_type": "stream",
          "name": "stdout",
          "text": [
            "tensor([3, 1, 4, 6, 2, 7, 9, 5, 8])\n",
            "min of tensor is pesenst at the index: 1\n",
            "max of tensor is pesenst at the index: 6\n"
          ]
        }
      ]
    },
    {
      "cell_type": "markdown",
      "source": [
        "### Reshaping, stacking, squeezing and unsqueezing tensors\n",
        "- Reshaping - reshapes an input tensor to a defined shape\n",
        "- View - Return a view of an input tensor of certain shape but keep the same memory as the original tensor\n",
        "- Stacking - combine multiple tensors on top of each other (vstack) or side by side (hstack)\n",
        "- Squeeze - removes all 1 dimensions from a tensor\n",
        "- Unsqueeze - add a 1 dimension to a target tensor\n",
        "- Permute - Return a view of the input with dimensions permuted (swapped) in a certain way"
      ],
      "metadata": {
        "id": "nhyDUjVN3EQH"
      }
    },
    {
      "cell_type": "code",
      "source": [
        "t6 = torch.arange(1.,10.)\n",
        "print(t6, '\\t' , t6.shape)"
      ],
      "metadata": {
        "colab": {
          "base_uri": "https://localhost:8080/"
        },
        "id": "p9lEjiMP32Rj",
        "outputId": "94a2b0f1-673e-43df-f43e-3824b7e7363f"
      },
      "execution_count": null,
      "outputs": [
        {
          "output_type": "stream",
          "name": "stdout",
          "text": [
            "tensor([1., 2., 3., 4., 5., 6., 7., 8., 9.]) \t torch.Size([9])\n"
          ]
        }
      ]
    },
    {
      "cell_type": "code",
      "source": [
        "t6_reshaped = t6.reshape(1,9)\n",
        "print(t6_reshaped, '\\t' , t6_reshaped.shape)"
      ],
      "metadata": {
        "colab": {
          "base_uri": "https://localhost:8080/"
        },
        "id": "IITxgH305j2d",
        "outputId": "eb271b7a-e24f-4e0d-a083-1c58ab05cc56"
      },
      "execution_count": null,
      "outputs": [
        {
          "output_type": "stream",
          "name": "stdout",
          "text": [
            "tensor([[1., 2., 3., 4., 5., 6., 7., 8., 9.]]) \t torch.Size([1, 9])\n"
          ]
        }
      ]
    },
    {
      "cell_type": "code",
      "source": [
        "t6_reshaped = t6.reshape(3,3)\n",
        "print(t6_reshaped, '\\t' , t6_reshaped.shape)"
      ],
      "metadata": {
        "colab": {
          "base_uri": "https://localhost:8080/"
        },
        "id": "zLGB5NLX51Q4",
        "outputId": "00db71dc-9077-4df8-b0e2-97ebe2e6148e"
      },
      "execution_count": null,
      "outputs": [
        {
          "output_type": "stream",
          "name": "stdout",
          "text": [
            "tensor([[1., 2., 3.],\n",
            "        [4., 5., 6.],\n",
            "        [7., 8., 9.]]) \t torch.Size([3, 3])\n"
          ]
        }
      ]
    },
    {
      "cell_type": "code",
      "source": [
        "t6_view = t6.view(3,3)\n",
        "print(t6_view, '\\t' , t6_view.shape)"
      ],
      "metadata": {
        "colab": {
          "base_uri": "https://localhost:8080/"
        },
        "id": "P4m1Xos96RJN",
        "outputId": "e9d289fd-1a68-4ba0-a059-e2394ba77d8e"
      },
      "execution_count": null,
      "outputs": [
        {
          "output_type": "stream",
          "name": "stdout",
          "text": [
            "tensor([[1., 2., 3.],\n",
            "        [4., 5., 6.],\n",
            "        [7., 8., 9.]]) \t torch.Size([3, 3])\n"
          ]
        }
      ]
    },
    {
      "cell_type": "code",
      "source": [
        "# The difference between the reshape and view is that now if we change the t6_view, t6 also will get altered\n",
        "t6_view[2][2] = 10\n",
        "print(t6, '\\t' , t6.shape)"
      ],
      "metadata": {
        "colab": {
          "base_uri": "https://localhost:8080/"
        },
        "id": "2ET_oiB46hEc",
        "outputId": "a6405bf9-b247-4d57-988d-d3823120c460"
      },
      "execution_count": null,
      "outputs": [
        {
          "output_type": "stream",
          "name": "stdout",
          "text": [
            "tensor([ 1.,  2.,  3.,  4.,  5.,  6.,  7.,  8., 10.]) \t torch.Size([9])\n"
          ]
        }
      ]
    },
    {
      "cell_type": "code",
      "source": [
        "print(torch.stack((t6,t6,t6), dim = 0))  # similar to v-stack\n",
        "print(torch.stack((t6,t6,t6), dim = 1))"
      ],
      "metadata": {
        "colab": {
          "base_uri": "https://localhost:8080/"
        },
        "id": "hOwCHXrw6xh2",
        "outputId": "681af07a-dea5-40fe-df87-151cb19a74dd"
      },
      "execution_count": null,
      "outputs": [
        {
          "output_type": "stream",
          "name": "stdout",
          "text": [
            "tensor([[ 1.,  2.,  3.,  4.,  5.,  6.,  7.,  8., 10.],\n",
            "        [ 1.,  2.,  3.,  4.,  5.,  6.,  7.,  8., 10.],\n",
            "        [ 1.,  2.,  3.,  4.,  5.,  6.,  7.,  8., 10.]])\n",
            "tensor([[ 1.,  1.,  1.],\n",
            "        [ 2.,  2.,  2.],\n",
            "        [ 3.,  3.,  3.],\n",
            "        [ 4.,  4.,  4.],\n",
            "        [ 5.,  5.,  5.],\n",
            "        [ 6.,  6.,  6.],\n",
            "        [ 7.,  7.,  7.],\n",
            "        [ 8.,  8.,  8.],\n",
            "        [10., 10., 10.]])\n"
          ]
        }
      ]
    },
    {
      "cell_type": "code",
      "source": [
        "print(torch.vstack((t6,t6,t6)))\n",
        "print(torch.hstack((t6,t6,t6)))"
      ],
      "metadata": {
        "colab": {
          "base_uri": "https://localhost:8080/"
        },
        "id": "KJd6nGIn7YMm",
        "outputId": "ef5ab2aa-43bd-4a3c-bc44-e91f39b57558"
      },
      "execution_count": null,
      "outputs": [
        {
          "output_type": "stream",
          "name": "stdout",
          "text": [
            "tensor([[ 1.,  2.,  3.,  4.,  5.,  6.,  7.,  8., 10.],\n",
            "        [ 1.,  2.,  3.,  4.,  5.,  6.,  7.,  8., 10.],\n",
            "        [ 1.,  2.,  3.,  4.,  5.,  6.,  7.,  8., 10.]])\n",
            "tensor([ 1.,  2.,  3.,  4.,  5.,  6.,  7.,  8., 10.,  1.,  2.,  3.,  4.,  5.,\n",
            "         6.,  7.,  8., 10.,  1.,  2.,  3.,  4.,  5.,  6.,  7.,  8., 10.])\n"
          ]
        }
      ]
    },
    {
      "cell_type": "code",
      "source": [
        "t6_unsqueezed = t6.unsqueeze(dim = 1)\n",
        "t6_unsqueezed"
      ],
      "metadata": {
        "colab": {
          "base_uri": "https://localhost:8080/"
        },
        "id": "vdre7j9_7vkb",
        "outputId": "eda6c1e3-e8bc-42e6-d7e1-678e8e061e72"
      },
      "execution_count": null,
      "outputs": [
        {
          "output_type": "execute_result",
          "data": {
            "text/plain": [
              "tensor([[ 1.],\n",
              "        [ 2.],\n",
              "        [ 3.],\n",
              "        [ 4.],\n",
              "        [ 5.],\n",
              "        [ 6.],\n",
              "        [ 7.],\n",
              "        [ 8.],\n",
              "        [10.]])"
            ]
          },
          "metadata": {},
          "execution_count": 33
        }
      ]
    },
    {
      "cell_type": "code",
      "source": [
        "t6_unsqueezed.squeeze()"
      ],
      "metadata": {
        "colab": {
          "base_uri": "https://localhost:8080/"
        },
        "id": "IKqxw1Bv8Tvu",
        "outputId": "ed6814ef-ec64-4c77-b54c-b96aabc7737a"
      },
      "execution_count": null,
      "outputs": [
        {
          "output_type": "execute_result",
          "data": {
            "text/plain": [
              "tensor([ 1.,  2.,  3.,  4.,  5.,  6.,  7.,  8., 10.])"
            ]
          },
          "metadata": {},
          "execution_count": 34
        }
      ]
    },
    {
      "cell_type": "code",
      "source": [
        "t6_original = torch.rand(224, 224, 3)\n",
        "t6_permuted = t6_original.permute(2,0,1)\n",
        "\n",
        "print(f\"Previous shape: {t6_original.shape}\")\n",
        "print(f\"New shape: {t6_permuted.shape}\")"
      ],
      "metadata": {
        "colab": {
          "base_uri": "https://localhost:8080/"
        },
        "id": "9AltccyO8poK",
        "outputId": "d68c9db6-23f4-45a0-80db-6fc11535ad2d"
      },
      "execution_count": null,
      "outputs": [
        {
          "output_type": "stream",
          "name": "stdout",
          "text": [
            "Previous shape: torch.Size([224, 224, 3])\n",
            "New shape: torch.Size([3, 224, 224])\n"
          ]
        }
      ]
    },
    {
      "cell_type": "markdown",
      "source": [
        "### Indexing (selecting data from tensors)"
      ],
      "metadata": {
        "id": "HBfBWDH48_5_"
      }
    },
    {
      "cell_type": "code",
      "source": [
        "t7 = torch.arange(1, 10).reshape(1, 3, 3)\n",
        "t7, t7.shape"
      ],
      "metadata": {
        "colab": {
          "base_uri": "https://localhost:8080/"
        },
        "id": "zoYb_VDp9fXP",
        "outputId": "0a4174b6-eef3-4477-d129-feabdb7963aa"
      },
      "execution_count": null,
      "outputs": [
        {
          "output_type": "execute_result",
          "data": {
            "text/plain": [
              "(tensor([[[1, 2, 3],\n",
              "          [4, 5, 6],\n",
              "          [7, 8, 9]]]),\n",
              " torch.Size([1, 3, 3]))"
            ]
          },
          "metadata": {},
          "execution_count": 36
        }
      ]
    },
    {
      "cell_type": "code",
      "source": [
        "print(t7[0])\n",
        "print(t7[0][0])\n",
        "print(t7[0][1][1])"
      ],
      "metadata": {
        "colab": {
          "base_uri": "https://localhost:8080/"
        },
        "id": "o3KL60NK92yu",
        "outputId": "cdabcb1b-5624-4df5-fa92-d412661efb9a"
      },
      "execution_count": null,
      "outputs": [
        {
          "output_type": "stream",
          "name": "stdout",
          "text": [
            "tensor([[1, 2, 3],\n",
            "        [4, 5, 6],\n",
            "        [7, 8, 9]])\n",
            "tensor([1, 2, 3])\n",
            "tensor(5)\n"
          ]
        }
      ]
    },
    {
      "cell_type": "code",
      "source": [
        "print(t7[:][:][0])\n",
        "print(t7[:,:,0])"
      ],
      "metadata": {
        "colab": {
          "base_uri": "https://localhost:8080/"
        },
        "id": "Vo_TINBn-ILl",
        "outputId": "0899a58f-9131-47b8-92bc-2665f3975756"
      },
      "execution_count": null,
      "outputs": [
        {
          "output_type": "stream",
          "name": "stdout",
          "text": [
            "tensor([[1, 2, 3],\n",
            "        [4, 5, 6],\n",
            "        [7, 8, 9]])\n",
            "tensor([[1, 4, 7]])\n"
          ]
        }
      ]
    },
    {
      "cell_type": "markdown",
      "source": [
        "### Numpy and PyTorch"
      ],
      "metadata": {
        "id": "bpIe0SzH-c6r"
      }
    },
    {
      "cell_type": "code",
      "source": [
        "import numpy as np"
      ],
      "metadata": {
        "id": "MKej0mP0_tv4"
      },
      "execution_count": null,
      "outputs": []
    },
    {
      "cell_type": "code",
      "source": [
        "np_array = np.arange(1.0, 8.0)\n",
        "t8 = torch.from_numpy(np_array)\n",
        "np_array, t8"
      ],
      "metadata": {
        "colab": {
          "base_uri": "https://localhost:8080/"
        },
        "id": "9zXy2kVa_tiT",
        "outputId": "c43be915-b638-4ba7-9c1d-c0670d239f80"
      },
      "execution_count": null,
      "outputs": [
        {
          "output_type": "execute_result",
          "data": {
            "text/plain": [
              "(array([1., 2., 3., 4., 5., 6., 7.]),\n",
              " tensor([1., 2., 3., 4., 5., 6., 7.], dtype=torch.float64))"
            ]
          },
          "metadata": {},
          "execution_count": 40
        }
      ]
    },
    {
      "cell_type": "markdown",
      "source": [
        "When converting from numpy -> pytorch, pytorch reflects numpy's default datatype of float64 unless specified otherwise\n"
      ],
      "metadata": {
        "id": "V3q96VPPAB-H"
      }
    },
    {
      "cell_type": "code",
      "source": [
        "t8 = torch.arange(1.,8.)\n",
        "numpy_tensor = t8.numpy()\n",
        "t8, numpy_tensor"
      ],
      "metadata": {
        "colab": {
          "base_uri": "https://localhost:8080/"
        },
        "id": "OtCaLJny_8jJ",
        "outputId": "480b45ae-6c16-4fe3-fa46-ed59b06b5093"
      },
      "execution_count": null,
      "outputs": [
        {
          "output_type": "execute_result",
          "data": {
            "text/plain": [
              "(tensor([1., 2., 3., 4., 5., 6., 7.]),\n",
              " array([1., 2., 3., 4., 5., 6., 7.], dtype=float32))"
            ]
          },
          "metadata": {},
          "execution_count": 41
        }
      ]
    },
    {
      "cell_type": "markdown",
      "source": [
        "### Reproducbility (trying to take random out of random)"
      ],
      "metadata": {
        "id": "CaZd_5BbASHL"
      }
    },
    {
      "cell_type": "code",
      "source": [
        "t9 = torch.rand(3, 4)\n",
        "t10 = torch.rand(3, 4)\n",
        "\n",
        "print(t9)\n",
        "print(t10)\n",
        "print(t9 == t10)"
      ],
      "metadata": {
        "colab": {
          "base_uri": "https://localhost:8080/"
        },
        "id": "HPmvf1uCA_Sh",
        "outputId": "3a02e13a-0785-429c-ffac-452527e66005"
      },
      "execution_count": null,
      "outputs": [
        {
          "output_type": "stream",
          "name": "stdout",
          "text": [
            "tensor([[0.1324, 0.4623, 0.1686, 0.6116],\n",
            "        [0.1536, 0.8302, 0.3075, 0.3291],\n",
            "        [0.1828, 0.8930, 0.7137, 0.5665]])\n",
            "tensor([[0.4805, 0.8918, 0.2680, 0.2248],\n",
            "        [0.9335, 0.8492, 0.2698, 0.6577],\n",
            "        [0.7392, 0.5498, 0.4476, 0.0258]])\n",
            "tensor([[False, False, False, False],\n",
            "        [False, False, False, False],\n",
            "        [False, False, False, False]])\n"
          ]
        }
      ]
    },
    {
      "cell_type": "code",
      "source": [
        "torch.manual_seed(42)\n",
        "t9 = torch.rand(3, 4)\n",
        "torch.manual_seed(42)\n",
        "t10 = torch.rand(3, 4)\n",
        "\n",
        "print(t9)\n",
        "print(t10)\n",
        "print(t9 == t10)"
      ],
      "metadata": {
        "colab": {
          "base_uri": "https://localhost:8080/"
        },
        "id": "vGosA9xPBGYR",
        "outputId": "0f698d5d-e868-41ae-cb1f-c6caff9d0b97"
      },
      "execution_count": null,
      "outputs": [
        {
          "output_type": "stream",
          "name": "stdout",
          "text": [
            "tensor([[0.8823, 0.9150, 0.3829, 0.9593],\n",
            "        [0.3904, 0.6009, 0.2566, 0.7936],\n",
            "        [0.9408, 0.1332, 0.9346, 0.5936]])\n",
            "tensor([[0.8823, 0.9150, 0.3829, 0.9593],\n",
            "        [0.3904, 0.6009, 0.2566, 0.7936],\n",
            "        [0.9408, 0.1332, 0.9346, 0.5936]])\n",
            "tensor([[True, True, True, True],\n",
            "        [True, True, True, True],\n",
            "        [True, True, True, True]])\n"
          ]
        }
      ]
    },
    {
      "cell_type": "markdown",
      "source": [
        "### Running tensors and PyTorch objects on the GPUs"
      ],
      "metadata": {
        "id": "RNVeYky2BORq"
      }
    },
    {
      "cell_type": "code",
      "source": [
        "device = \"cuda\" if torch.cuda.is_available() else \"cpu\"\n",
        "device"
      ],
      "metadata": {
        "colab": {
          "base_uri": "https://localhost:8080/",
          "height": 35
        },
        "id": "A0BlT-QABTHn",
        "outputId": "8b75e907-01e6-4982-865e-270fd2249ef4"
      },
      "execution_count": null,
      "outputs": [
        {
          "output_type": "execute_result",
          "data": {
            "text/plain": [
              "'cpu'"
            ],
            "application/vnd.google.colaboratory.intrinsic+json": {
              "type": "string"
            }
          },
          "metadata": {},
          "execution_count": 44
        }
      ]
    },
    {
      "cell_type": "code",
      "source": [
        "torch.cuda.device_count()"
      ],
      "metadata": {
        "colab": {
          "base_uri": "https://localhost:8080/"
        },
        "id": "SHgN8ZN5BeGB",
        "outputId": "751e3f63-7e1c-48b5-e8f8-1aaf9d0b35cf"
      },
      "execution_count": null,
      "outputs": [
        {
          "output_type": "execute_result",
          "data": {
            "text/plain": [
              "0"
            ]
          },
          "metadata": {},
          "execution_count": 45
        }
      ]
    },
    {
      "cell_type": "code",
      "source": [
        "t11 = torch.rand(9)\n",
        "print(t11, t11.device)"
      ],
      "metadata": {
        "colab": {
          "base_uri": "https://localhost:8080/"
        },
        "id": "fLIUHFePBz0K",
        "outputId": "4dcd66c9-1851-41a6-a2c4-077e87a6f911"
      },
      "execution_count": null,
      "outputs": [
        {
          "output_type": "stream",
          "name": "stdout",
          "text": [
            "tensor([0.8694, 0.5677, 0.7411, 0.4294, 0.8854, 0.5739, 0.2666, 0.6274, 0.2696]) cpu\n"
          ]
        }
      ]
    },
    {
      "cell_type": "code",
      "source": [
        "t_gpu = t11.to(device)\n",
        "t_gpu"
      ],
      "metadata": {
        "colab": {
          "base_uri": "https://localhost:8080/"
        },
        "id": "uHfJXYfOBkuD",
        "outputId": "ff32d16a-db7a-4d4e-e858-c4d46b95ed5c"
      },
      "execution_count": null,
      "outputs": [
        {
          "output_type": "execute_result",
          "data": {
            "text/plain": [
              "tensor([0.8694, 0.5677, 0.7411, 0.4294, 0.8854, 0.5739, 0.2666, 0.6274, 0.2696])"
            ]
          },
          "metadata": {},
          "execution_count": 47
        }
      ]
    },
    {
      "cell_type": "code",
      "source": [
        "# If tensor is on GPU, can't transform it to NumPy\n",
        "# t_gpu.numpy()"
      ],
      "metadata": {
        "id": "eHm0vmZnBwCZ"
      },
      "execution_count": null,
      "outputs": []
    },
    {
      "cell_type": "code",
      "source": [
        "# To fix the GPU tensor with NumPy issue, we can first set it to the CPU\n",
        "t_cpu = t_gpu.cpu().numpy()\n",
        "t_cpu"
      ],
      "metadata": {
        "colab": {
          "base_uri": "https://localhost:8080/"
        },
        "id": "xxtAWoivCI1V",
        "outputId": "e974ab06-1659-42b5-9643-3c5656e03e3d"
      },
      "execution_count": null,
      "outputs": [
        {
          "output_type": "execute_result",
          "data": {
            "text/plain": [
              "array([0.86940444, 0.5677153 , 0.74109405, 0.4294045 , 0.8854429 ,\n",
              "       0.57390445, 0.26658005, 0.62744915, 0.26963168], dtype=float32)"
            ]
          },
          "metadata": {},
          "execution_count": 49
        }
      ]
    }
  ]
}