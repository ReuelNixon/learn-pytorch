{
  "nbformat": 4,
  "nbformat_minor": 0,
  "metadata": {
    "colab": {
      "provenance": [],
      "include_colab_link": true
    },
    "kernelspec": {
      "name": "python3",
      "display_name": "Python 3"
    },
    "language_info": {
      "name": "python"
    },
    "accelerator": "GPU"
  },
  "cells": [
    {
      "cell_type": "markdown",
      "metadata": {
        "id": "view-in-github",
        "colab_type": "text"
      },
      "source": [
        "<a href=\"https://colab.research.google.com/github/ReuelNixon/learn-pytorch/blob/main/03_exercise.ipynb\" target=\"_parent\"><img src=\"https://colab.research.google.com/assets/colab-badge.svg\" alt=\"Open In Colab\"/></a>"
      ]
    },
    {
      "cell_type": "markdown",
      "source": [
        "# 03. PyTorch Computer Vision Exercises\n",
        "\n",
        "The following is a collection of exercises based on computer vision fundamentals in PyTorch.\n",
        "\n",
        "They're a bunch of fun.\n",
        "\n",
        "You're going to get to write plenty of code!\n",
        "\n",
        "## Resources\n",
        "\n",
        "1. These exercises are based on [notebook 03 of the Learn PyTorch for Deep Learning course](https://www.learnpytorch.io/03_pytorch_computer_vision/).\n",
        "2. See a live [walkthrough of the solutions (errors and all) on YouTube](https://youtu.be/_PibmqpEyhA).\n",
        "  * **Note:** Going through these exercises took me just over 3 hours of solid coding, so you should expect around the same.\n",
        "3. See [other solutions on the course GitHub](https://github.com/mrdbourke/pytorch-deep-learning/tree/main/extras/solutions)."
      ],
      "metadata": {
        "id": "Vex99np2wFVt"
      }
    },
    {
      "cell_type": "code",
      "source": [
        "# Check for GPU\n",
        "!nvidia-smi"
      ],
      "metadata": {
        "colab": {
          "base_uri": "https://localhost:8080/"
        },
        "id": "GaeYzOTLwWh2",
        "outputId": "b03880b7-4895-4217-938f-1c98ff2a3346"
      },
      "execution_count": 25,
      "outputs": [
        {
          "output_type": "stream",
          "name": "stdout",
          "text": [
            "Tue Sep 26 01:20:54 2023       \n",
            "+-----------------------------------------------------------------------------+\n",
            "| NVIDIA-SMI 525.105.17   Driver Version: 525.105.17   CUDA Version: 12.0     |\n",
            "|-------------------------------+----------------------+----------------------+\n",
            "| GPU  Name        Persistence-M| Bus-Id        Disp.A | Volatile Uncorr. ECC |\n",
            "| Fan  Temp  Perf  Pwr:Usage/Cap|         Memory-Usage | GPU-Util  Compute M. |\n",
            "|                               |                      |               MIG M. |\n",
            "|===============================+======================+======================|\n",
            "|   0  Tesla T4            Off  | 00000000:00:04.0 Off |                    0 |\n",
            "| N/A   76C    P0    35W /  70W |   1125MiB / 15360MiB |      0%      Default |\n",
            "|                               |                      |                  N/A |\n",
            "+-------------------------------+----------------------+----------------------+\n",
            "                                                                               \n",
            "+-----------------------------------------------------------------------------+\n",
            "| Processes:                                                                  |\n",
            "|  GPU   GI   CI        PID   Type   Process name                  GPU Memory |\n",
            "|        ID   ID                                                   Usage      |\n",
            "|=============================================================================|\n",
            "+-----------------------------------------------------------------------------+\n"
          ]
        }
      ]
    },
    {
      "cell_type": "code",
      "source": [
        "# Import torch\n",
        "import torch\n",
        "\n",
        "# Exercises require PyTorch > 1.10.0\n",
        "print(torch.__version__)\n",
        "\n",
        "# TODO: Setup device agnostic code\n",
        "device = \"cuda\" if torch.cuda.is_available() else \"cpu\"\n",
        "print(f\"Using device: {device}\")"
      ],
      "metadata": {
        "colab": {
          "base_uri": "https://localhost:8080/"
        },
        "id": "DNwZLMbCzJLk",
        "outputId": "11d6614c-9956-41c3-e3f4-fe33fcf08b31"
      },
      "execution_count": 26,
      "outputs": [
        {
          "output_type": "stream",
          "name": "stdout",
          "text": [
            "2.0.1+cu118\n",
            "Using device: cuda\n"
          ]
        }
      ]
    },
    {
      "cell_type": "markdown",
      "source": [
        "## 1. What are 3 areas in industry where computer vision is currently being used?"
      ],
      "metadata": {
        "id": "FSFX7tc1w-en"
      }
    },
    {
      "cell_type": "markdown",
      "source": [
        "1. Self driving cars\n",
        "2. Defective product identification\n",
        "3. Face recognition"
      ],
      "metadata": {
        "id": "VyWRkvWGbCXj"
      }
    },
    {
      "cell_type": "markdown",
      "source": [
        "## 2. Search \"what is overfitting in machine learning\" and write down a sentence about what you find."
      ],
      "metadata": {
        "id": "oBK-WI6YxDYa"
      }
    },
    {
      "cell_type": "markdown",
      "source": [
        "A common phenomenon in which the model learns the noise or unwanted stuff from the data such that it affects the model in a negative way"
      ],
      "metadata": {
        "id": "d1rxD6GObCqh"
      }
    },
    {
      "cell_type": "markdown",
      "source": [
        "## 3. Search \"ways to prevent overfitting in machine learning\", write down 3 of the things you find and a sentence about each.\n",
        "> **Note:** there are lots of these, so don't worry too much about all of them, just pick 3 and start with those."
      ],
      "metadata": {
        "id": "XeYFEqw8xK26"
      }
    },
    {
      "cell_type": "markdown",
      "source": [
        "1. Adding more diverse data to the dataset\n",
        "2. Using a model suitable for the dataset i.e a simple model for a simple dataset\n",
        "3. Early stopping\n",
        "4. K-fold cross validation\n",
        "5. Adding noise to the training data"
      ],
      "metadata": {
        "id": "ocvOdWKcbEKr"
      }
    },
    {
      "cell_type": "markdown",
      "source": [
        "## 4. Spend 20-minutes reading and clicking through the [CNN Explainer website](https://poloclub.github.io/cnn-explainer/).\n",
        "\n",
        "* Upload your own example image using the \"upload\" button on the website and see what happens in each layer of a CNN as your image passes through it."
      ],
      "metadata": {
        "id": "DKdEEFEqxM-8"
      }
    },
    {
      "cell_type": "markdown",
      "source": [
        "## 5. Load the [`torchvision.datasets.MNIST()`](https://pytorch.org/vision/stable/generated/torchvision.datasets.MNIST.html#torchvision.datasets.MNIST) train and test datasets."
      ],
      "metadata": {
        "id": "lvf-3pODxXYI"
      }
    },
    {
      "cell_type": "code",
      "source": [
        "from torchvision.datasets import MNIST\n",
        "from torchvision.transforms import ToTensor\n",
        "import matplotlib.pyplot as plt\n",
        "import torch\n",
        "from torch import nn\n",
        "\n",
        "train_data = MNIST(\n",
        "    root = \"data\",\n",
        "    transform = ToTensor(),\n",
        "    train = True,\n",
        "    download = True\n",
        ")\n",
        "\n",
        "test_data = MNIST(\n",
        "    root = \"data\",\n",
        "    transform = ToTensor(),\n",
        "    train = False,\n",
        "    download = True\n",
        ")"
      ],
      "metadata": {
        "id": "SHjeuN81bHza"
      },
      "execution_count": 27,
      "outputs": []
    },
    {
      "cell_type": "code",
      "source": [
        "image, label = train_data[0]\n",
        "plt.imshow(image.squeeze(), cmap=\"gray\");\n",
        "plt.title(label);\n",
        "plt.axis(False);"
      ],
      "metadata": {
        "colab": {
          "base_uri": "https://localhost:8080/",
          "height": 428
        },
        "id": "gaUBmoJcZslQ",
        "outputId": "fac3d9fd-ad1d-4da5-e4e5-3d0f448883d6"
      },
      "execution_count": 28,
      "outputs": [
        {
          "output_type": "display_data",
          "data": {
            "text/plain": [
              "<Figure size 640x480 with 1 Axes>"
            ],
            "image/png": "[encoded data removed]"
          },
          "metadata": {}
        }
      ]
    },
    {
      "cell_type": "markdown",
      "source": [
        "## 6. Visualize at least 5 different samples of the MNIST training dataset."
      ],
      "metadata": {
        "id": "qxZW-uAbxe_F"
      }
    },
    {
      "cell_type": "code",
      "source": [
        "fig = plt.figure(figsize=(9,9))\n",
        "rows, cols = 4, 4\n",
        "for i in range(1, rows*cols + 1):\n",
        "  random_idx = torch.randint(0, len(train_data), size=[1]).item()\n",
        "  image, label = train_data[i]\n",
        "  fig.add_subplot(rows, cols, i)\n",
        "  plt.imshow(image.squeeze(), cmap = \"gray\")\n",
        "  plt.title(label)\n",
        "  plt.axis(False)"
      ],
      "metadata": {
        "id": "QVFsYi1PbItE",
        "colab": {
          "base_uri": "https://localhost:8080/",
          "height": 752
        },
        "outputId": "1e2c404c-fd21-405d-a81c-e3d19df5e2b9"
      },
      "execution_count": 29,
      "outputs": [
        {
          "output_type": "display_data",
          "data": {
            "text/plain": [
              "<Figure size 900x900 with 16 Axes>"
            ],
            "image/png": "[encoded data removed]"
          },
          "metadata": {}
        }
      ]
    },
    {
      "cell_type": "markdown",
      "source": [
        "## 7. Turn the MNIST train and test datasets into dataloaders using `torch.utils.data.DataLoader`, set the `batch_size=32`."
      ],
      "metadata": {
        "id": "JAPDzW0wxhi3"
      }
    },
    {
      "cell_type": "code",
      "source": [
        "from torch.utils.data import DataLoader\n",
        "\n",
        "train_dataloader = DataLoader(\n",
        "    dataset = train_data,\n",
        "    batch_size = 32,\n",
        "    shuffle = True\n",
        ")\n",
        "\n",
        "test_dataloader = DataLoader(\n",
        "    dataset = test_data,\n",
        "    batch_size = 32,\n",
        "    shuffle = True\n",
        ")\n",
        "\n",
        "len(train_dataloader), len(test_dataloader)"
      ],
      "metadata": {
        "id": "ALA6MPcFbJXQ",
        "colab": {
          "base_uri": "https://localhost:8080/"
        },
        "outputId": "cfdc01f8-1b86-4ac2-d8a8-076b5c06322e"
      },
      "execution_count": 30,
      "outputs": [
        {
          "output_type": "execute_result",
          "data": {
            "text/plain": [
              "(1875, 313)"
            ]
          },
          "metadata": {},
          "execution_count": 30
        }
      ]
    },
    {
      "cell_type": "markdown",
      "source": [
        "## 8. Recreate `model_2` used in notebook 03 (the same model from the [CNN Explainer website](https://poloclub.github.io/cnn-explainer/), also known as TinyVGG) capable of fitting on the MNIST dataset."
      ],
      "metadata": {
        "id": "bCCVfXk5xjYS"
      }
    },
    {
      "cell_type": "code",
      "source": [
        "device = \"cuda\" if torch.cuda.is_available() else \"cpu\"\n",
        "print(f\"Using device: {device}\")\n",
        "print(f\"PyTorch Version: {torch.__version__}\")\n",
        "\n",
        "class MNISTModelV0(nn.Module):\n",
        "  def __init__(self, in_features, intermediate_features, out_features):\n",
        "    super().__init__()\n",
        "\n",
        "    self.block1 = nn.Sequential(\n",
        "        nn.Conv2d(\n",
        "            in_channels = in_features,\n",
        "            out_channels = intermediate_features,\n",
        "            kernel_size = 3,\n",
        "            stride = 1,\n",
        "            padding = 1\n",
        "        ),\n",
        "        nn.ReLU(),\n",
        "        nn.Conv2d(\n",
        "            in_channels = intermediate_features,\n",
        "            out_channels = intermediate_features,\n",
        "            kernel_size = 3,\n",
        "            stride = 1,\n",
        "            padding = 1\n",
        "        ),\n",
        "        nn.ReLU(),\n",
        "        nn.MaxPool2d(\n",
        "            kernel_size = 3,\n",
        "            stride = 2\n",
        "        )\n",
        "    )\n",
        "\n",
        "    self.block2 = nn.Sequential(\n",
        "        nn.Conv2d(\n",
        "            in_channels = intermediate_features,\n",
        "            out_channels = intermediate_features,\n",
        "            kernel_size = 3,\n",
        "            stride = 1,\n",
        "            padding = 1\n",
        "        ),\n",
        "        nn.ReLU(),\n",
        "        nn.Conv2d(\n",
        "            in_channels = intermediate_features,\n",
        "            out_channels = intermediate_features,\n",
        "            kernel_size = 3,\n",
        "            stride = 1,\n",
        "            padding = 1\n",
        "        ),\n",
        "        nn.ReLU(),\n",
        "        nn.MaxPool2d(\n",
        "            kernel_size = 3,\n",
        "            stride = 2\n",
        "        )\n",
        "    )\n",
        "\n",
        "    self.classifier = nn.Sequential(\n",
        "        nn.Flatten(),\n",
        "        nn.Linear(intermediate_features * 6 * 6, out_features)\n",
        "    )\n",
        "\n",
        "  def forward(self, x: torch.Tensor):\n",
        "    # print(f\"Size before passing into block 1: {x.size()}\")\n",
        "    x = self.block1(x)\n",
        "    # print(f\"Size after passing into block 1: {x.size()}\")\n",
        "    x = self.block2(x)\n",
        "    # print(f\"Size after passing into block 2: {x.size()}\")\n",
        "    x = self.classifier(x)\n",
        "    # print(f\"Size after passing into classifier: {x.size()}\")\n",
        "    return(x)"
      ],
      "metadata": {
        "id": "5IKNF22XbKYS",
        "colab": {
          "base_uri": "https://localhost:8080/"
        },
        "outputId": "6ccfdfd4-2bfa-4c07-f0ec-fdfa27d01e18"
      },
      "execution_count": 31,
      "outputs": [
        {
          "output_type": "stream",
          "name": "stdout",
          "text": [
            "Using device: cuda\n",
            "PyTorch Version: 2.0.1+cu118\n"
          ]
        }
      ]
    },
    {
      "cell_type": "code",
      "source": [
        "model = MNISTModelV0(\n",
        "    in_features = 1,\n",
        "    intermediate_features = 10,\n",
        "    out_features = 10\n",
        ").to(device)\n",
        "\n",
        "model"
      ],
      "metadata": {
        "colab": {
          "base_uri": "https://localhost:8080/"
        },
        "id": "x8M__CQzf5AG",
        "outputId": "cbd2caf1-a075-4917-8ed7-335089434509"
      },
      "execution_count": 32,
      "outputs": [
        {
          "output_type": "execute_result",
          "data": {
            "text/plain": [
              "MNISTModelV0(\n",
              "  (block1): Sequential(\n",
              "    (0): Conv2d(1, 10, kernel_size=(3, 3), stride=(1, 1), padding=(1, 1))\n",
              "    (1): ReLU()\n",
              "    (2): Conv2d(10, 10, kernel_size=(3, 3), stride=(1, 1), padding=(1, 1))\n",
              "    (3): ReLU()\n",
              "    (4): MaxPool2d(kernel_size=3, stride=2, padding=0, dilation=1, ceil_mode=False)\n",
              "  )\n",
              "  (block2): Sequential(\n",
              "    (0): Conv2d(10, 10, kernel_size=(3, 3), stride=(1, 1), padding=(1, 1))\n",
              "    (1): ReLU()\n",
              "    (2): Conv2d(10, 10, kernel_size=(3, 3), stride=(1, 1), padding=(1, 1))\n",
              "    (3): ReLU()\n",
              "    (4): MaxPool2d(kernel_size=3, stride=2, padding=0, dilation=1, ceil_mode=False)\n",
              "  )\n",
              "  (classifier): Sequential(\n",
              "    (0): Flatten(start_dim=1, end_dim=-1)\n",
              "    (1): Linear(in_features=360, out_features=10, bias=True)\n",
              "  )\n",
              ")"
            ]
          },
          "metadata": {},
          "execution_count": 32
        }
      ]
    },
    {
      "cell_type": "code",
      "source": [
        "image = image.to(device)\n",
        "model(image.unsqueeze(0))"
      ],
      "metadata": {
        "colab": {
          "base_uri": "https://localhost:8080/"
        },
        "id": "Ok4HxJmXf44e",
        "outputId": "0e50d9c8-8e84-4ac5-d3ea-579e9d7e1669"
      },
      "execution_count": 33,
      "outputs": [
        {
          "output_type": "execute_result",
          "data": {
            "text/plain": [
              "tensor([[-0.0469, -0.0851, -0.0485, -0.0062,  0.0392,  0.0707, -0.0081, -0.0244,\n",
              "         -0.0606, -0.0103]], device='cuda:0', grad_fn=<AddmmBackward0>)"
            ]
          },
          "metadata": {},
          "execution_count": 33
        }
      ]
    },
    {
      "cell_type": "markdown",
      "source": [
        "## 9. Train the model you built in exercise 8. for 5 epochs on CPU and GPU and see how long it takes on each."
      ],
      "metadata": {
        "id": "sf_3zUr7xlhy"
      }
    },
    {
      "cell_type": "code",
      "source": [
        "import requests\n",
        "from pathlib import Path\n",
        "\n",
        "if Path(\"helper_functions.py\").is_file():\n",
        "  print(\"helper_functions.py already exists, skipping download\")\n",
        "else:\n",
        "  print(\"Downloading helper_functions.py\")\n",
        "  request = requests.get(\"https://raw.githubusercontent.com/mrdbourke/pytorch-deep-learning/main/helper_functions.py\")\n",
        "  with open(\"helper_functions.py\", \"wb\") as f:\n",
        "    f.write(request.content)"
      ],
      "metadata": {
        "colab": {
          "base_uri": "https://localhost:8080/"
        },
        "id": "ZbQ0w0-BiCB-",
        "outputId": "4b142d71-e08b-4b9e-c03a-beee38a97a93"
      },
      "execution_count": 34,
      "outputs": [
        {
          "output_type": "stream",
          "name": "stdout",
          "text": [
            "helper_functions.py already exists, skipping download\n"
          ]
        }
      ]
    },
    {
      "cell_type": "code",
      "source": [
        "def train_step(model, dataloader, loss_fn, optimizer, accuracy_fn, device):\n",
        "  train_loss, train_acc = 0, 0\n",
        "  model.to(device)\n",
        "  model.train()\n",
        "\n",
        "  for batch, (X, y) in enumerate(dataloader):\n",
        "    X, y = X.to(device), y.to(device)\n",
        "\n",
        "    train_preds = model(X)\n",
        "\n",
        "    loss = loss_fn(train_preds, y)\n",
        "    train_loss += loss\n",
        "    train_acc += accuracy_fn(y_pred = train_preds.argmax(1), y_true = y)\n",
        "\n",
        "    optimizer.zero_grad()\n",
        "    loss.backward()\n",
        "    optimizer.step()\n",
        "\n",
        "    if (batch % 400 == 0):\n",
        "      print(f\"Finished going through {batch * len(X)} / {len(dataloader)} samples\")\n",
        "\n",
        "  train_loss /= len(dataloader)\n",
        "  train_acc /= len(dataloader)\n",
        "  print(f\"Train Loss: {train_loss}\\tTrain Accuracy: {train_acc}\")\n",
        "\n",
        "\n",
        "def test_step(model, dataloader, loss_fn, accuracy_fn, device):\n",
        "  test_loss, test_acc = 0, 0\n",
        "  model.to(device)\n",
        "  model.eval()\n",
        "\n",
        "  with torch.inference_mode():\n",
        "    for batch, (X, y) in enumerate(dataloader):\n",
        "      X, y = X.to(device), y.to(device)\n",
        "      test_preds = model(X)\n",
        "      test_loss += loss_fn(test_preds, y)\n",
        "      test_acc += accuracy_fn(y_pred = test_preds.argmax(1), y_true = y)\n",
        "\n",
        "    test_loss /= len(dataloader)\n",
        "    test_acc /= len(dataloader)\n",
        "\n",
        "    print(f\"Test Loss: {test_loss}\\tTest Accuracy: {test_acc}\")\n",
        "\n",
        "\n",
        "def evaluate(model, dataloader, loss_fn, accuracy_fn, device):\n",
        "  loss, accuracy = 0, 0\n",
        "  model.to(device)\n",
        "  model.eval()\n",
        "\n",
        "  with torch.inference_mode():\n",
        "    for batch, (X, y) in enumerate(dataloader):\n",
        "      X, y = X.to(device), y.to(device)\n",
        "      preds = model(X)\n",
        "      loss += loss_fn(preds, y)\n",
        "      accuracy += accuracy_fn(y_pred = preds.argmax(1),y_true = y)\n",
        "\n",
        "    loss /= len(dataloader)\n",
        "    accuracy /= len(dataloader)\n",
        "\n",
        "    return {\n",
        "        \"name\": model.__class__.__name__,\n",
        "        \"accuracy\": accuracy,\n",
        "        \"loss\": loss.item()\n",
        "    }"
      ],
      "metadata": {
        "id": "jSo6vVWFbNLD"
      },
      "execution_count": 35,
      "outputs": []
    },
    {
      "cell_type": "code",
      "source": [
        "from helper_functions import accuracy_fn\n",
        "loss_fn = nn.CrossEntropyLoss()\n",
        "optimizer = torch.optim.SGD(params = model.parameters(), lr = 0.1)"
      ],
      "metadata": {
        "id": "upXVplsBhRT3"
      },
      "execution_count": 36,
      "outputs": []
    },
    {
      "cell_type": "code",
      "source": [
        "epochs = 5\n",
        "for epoch in range(epochs):\n",
        "  train_step(\n",
        "      model,\n",
        "      train_dataloader,\n",
        "      loss_fn,\n",
        "      optimizer,\n",
        "      accuracy_fn,\n",
        "      device\n",
        "  )\n",
        "  test_step(\n",
        "      model,\n",
        "      test_dataloader,\n",
        "      loss_fn,\n",
        "      accuracy_fn,\n",
        "      device\n",
        "  )"
      ],
      "metadata": {
        "colab": {
          "base_uri": "https://localhost:8080/"
        },
        "id": "L1tO0bKjhRQx",
        "outputId": "ab4a02de-0ba0-43a5-bfad-55ce8cd85fca"
      },
      "execution_count": 37,
      "outputs": [
        {
          "output_type": "stream",
          "name": "stdout",
          "text": [
            "Finished going through 0 / 1875 samples\n",
            "Finished going through 12800 / 1875 samples\n",
            "Finished going through 25600 / 1875 samples\n",
            "Finished going through 38400 / 1875 samples\n",
            "Finished going through 51200 / 1875 samples\n",
            "Train Loss: 0.31498202681541443\tTrain Accuracy: 89.455\n",
            "Test Loss: 0.07890153676271439\tTest Accuracy: 97.4341054313099\n",
            "Finished going through 0 / 1875 samples\n",
            "Finished going through 12800 / 1875 samples\n",
            "Finished going through 25600 / 1875 samples\n",
            "Finished going through 38400 / 1875 samples\n",
            "Finished going through 51200 / 1875 samples\n",
            "Train Loss: 0.07120677083730698\tTrain Accuracy: 97.82666666666667\n",
            "Test Loss: 0.05068192258477211\tTest Accuracy: 98.3526357827476\n",
            "Finished going through 0 / 1875 samples\n",
            "Finished going through 12800 / 1875 samples\n",
            "Finished going through 25600 / 1875 samples\n",
            "Finished going through 38400 / 1875 samples\n",
            "Finished going through 51200 / 1875 samples\n",
            "Train Loss: 0.05519070476293564\tTrain Accuracy: 98.26333333333334\n",
            "Test Loss: 0.05182890594005585\tTest Accuracy: 98.21285942492013\n",
            "Finished going through 0 / 1875 samples\n",
            "Finished going through 12800 / 1875 samples\n",
            "Finished going through 25600 / 1875 samples\n",
            "Finished going through 38400 / 1875 samples\n",
            "Finished going through 51200 / 1875 samples\n",
            "Train Loss: 0.047114256769418716\tTrain Accuracy: 98.53666666666666\n",
            "Test Loss: 0.03665347397327423\tTest Accuracy: 98.82188498402556\n",
            "Finished going through 0 / 1875 samples\n",
            "Finished going through 12800 / 1875 samples\n",
            "Finished going through 25600 / 1875 samples\n",
            "Finished going through 38400 / 1875 samples\n",
            "Finished going through 51200 / 1875 samples\n",
            "Train Loss: 0.04140739142894745\tTrain Accuracy: 98.71833333333333\n",
            "Test Loss: 0.03640782833099365\tTest Accuracy: 98.78194888178913\n"
          ]
        }
      ]
    },
    {
      "cell_type": "code",
      "source": [
        "model_results = evaluate(\n",
        "    model,\n",
        "    test_dataloader,\n",
        "    loss_fn,\n",
        "    accuracy_fn,\n",
        "    device\n",
        ")\n",
        "model_results"
      ],
      "metadata": {
        "colab": {
          "base_uri": "https://localhost:8080/"
        },
        "id": "jE5WuYYppw0q",
        "outputId": "0e5c8c57-6917-4690-84da-e7a5e7159834"
      },
      "execution_count": 38,
      "outputs": [
        {
          "output_type": "execute_result",
          "data": {
            "text/plain": [
              "{'name': 'MNISTModelV0',\n",
              " 'accuracy': 98.78194888178913,\n",
              " 'loss': 0.03641359880566597}"
            ]
          },
          "metadata": {},
          "execution_count": 38
        }
      ]
    },
    {
      "cell_type": "markdown",
      "source": [
        "## 10. Make predictions using your trained model and visualize at least 5 of them comparing the prediciton to the target label."
      ],
      "metadata": {
        "id": "w1CsHhPpxp1w"
      }
    },
    {
      "cell_type": "code",
      "source": [
        "def make_predictions(model, data, device):\n",
        "  model.eval()\n",
        "  preds = []\n",
        "  for sample in data:\n",
        "    pred_logit = model(sample.unsqueeze(0).to(device))\n",
        "    pred_probs = torch.softmax(pred_logit.squeeze(), dim=0)\n",
        "    pred = pred_probs.argmax(0)\n",
        "    preds.append(pred.cpu())\n",
        "\n",
        "  return torch.stack(preds)"
      ],
      "metadata": {
        "id": "4pkmc6SdtU3Y"
      },
      "execution_count": 39,
      "outputs": []
    },
    {
      "cell_type": "code",
      "source": [
        "import random\n",
        "test_samples = []\n",
        "test_labels = []\n",
        "for sample, label in random.sample(list(test_data), k=9):\n",
        "  sample = sample.to(device)\n",
        "  test_samples.append(sample)\n",
        "  test_labels.append(label)\n",
        "\n",
        "test_labels"
      ],
      "metadata": {
        "id": "_YGgZvSobNxu",
        "colab": {
          "base_uri": "https://localhost:8080/"
        },
        "outputId": "25a6f294-9ece-48b7-ab02-ce7a38dc7931"
      },
      "execution_count": 40,
      "outputs": [
        {
          "output_type": "execute_result",
          "data": {
            "text/plain": [
              "[2, 0, 3, 1, 6, 3, 7, 4, 8]"
            ]
          },
          "metadata": {},
          "execution_count": 40
        }
      ]
    },
    {
      "cell_type": "code",
      "source": [
        "preds = make_predictions(model, test_samples, device)\n",
        "fig = plt.figure(figsize = (9, 9))\n",
        "rows, cols = 3, 3\n",
        "for i in range(1, rows*cols + 1):\n",
        "  image = test_samples[i-1].cpu()\n",
        "  label = test_labels[i-1]\n",
        "  pred = preds[i-1]\n",
        "  fig.add_subplot(rows, cols, i)\n",
        "  plt.imshow(image.squeeze(), cmap = \"gray\")\n",
        "  text = f\"True: {label} | Pred: {pred}\"\n",
        "  if pred == label:\n",
        "      plt.title(text, fontsize=12, c=\"g\")\n",
        "  else:\n",
        "      plt.title(text, fontsize=12, c=\"r\")\n",
        "  plt.axis(False)"
      ],
      "metadata": {
        "colab": {
          "base_uri": "https://localhost:8080/",
          "height": 752
        },
        "id": "sr-PLv8rs3gV",
        "outputId": "266340c5-c35a-46c6-92c2-ee7aaffd72d2"
      },
      "execution_count": 41,
      "outputs": [
        {
          "output_type": "display_data",
          "data": {
            "text/plain": [
              "<Figure size 900x900 with 9 Axes>"
            ],
            "image/png": "[encoded data removed]"
          },
          "metadata": {}
        }
      ]
    },
    {
      "cell_type": "markdown",
      "source": [
        "## 11. Plot a confusion matrix comparing your model's predictions to the truth labels."
      ],
      "metadata": {
        "id": "qQwzqlBWxrpG"
      }
    },
    {
      "cell_type": "code",
      "source": [
        "y_preds = []\n",
        "y_true = []\n",
        "model.eval()\n",
        "with torch.inference_mode():\n",
        "  for X, y in test_dataloader:\n",
        "    X, y = X.to(device), y.to(device)\n",
        "    y_logit = model(X)\n",
        "    y_pred = torch.softmax(y_logit, dim=1).argmax(dim=1)\n",
        "    y_preds.append(y_pred.cpu())\n",
        "    y_true.append(y.cpu())\n",
        "y_pred_tensor = torch.cat(y_preds)\n",
        "y_true_tensor = torch.cat(y_true)"
      ],
      "metadata": {
        "id": "nLELVtq9DTZC"
      },
      "execution_count": 42,
      "outputs": []
    },
    {
      "cell_type": "code",
      "source": [
        "!pip install -q torchmetrics;\n",
        "\n",
        "from torchmetrics import ConfusionMatrix\n",
        "from mlxtend.plotting import plot_confusion_matrix"
      ],
      "metadata": {
        "id": "vSrXiT_AbQ6e"
      },
      "execution_count": 43,
      "outputs": []
    },
    {
      "cell_type": "code",
      "source": [
        "confmat = ConfusionMatrix(task=\"multiclass\", num_classes=10)\n",
        "confmat_tensor = confmat(preds = y_pred_tensor, target = y_true_tensor)\n",
        "plot_confusion_matrix(\n",
        "    conf_mat = confmat_tensor.numpy(),\n",
        "    class_names = test_data.classes,\n",
        "    figsize = (10, 7)\n",
        ");"
      ],
      "metadata": {
        "colab": {
          "base_uri": "https://localhost:8080/",
          "height": 660
        },
        "id": "bFTuP9NRELDm",
        "outputId": "d37385b3-407f-45e2-dbf0-c92729ecef60"
      },
      "execution_count": 44,
      "outputs": [
        {
          "output_type": "display_data",
          "data": {
            "text/plain": [
              "<Figure size 1000x700 with 1 Axes>"
            ],
            "image/png": "[encoded data removed]"
          },
          "metadata": {}
        }
      ]
    },
    {
      "cell_type": "markdown",
      "source": [
        "## 12. Create a random tensor of shape `[1, 3, 64, 64]` and pass it through a `nn.Conv2d()` layer with various hyperparameter settings (these can be any settings you choose), what do you notice if the `kernel_size` parameter goes up and down?"
      ],
      "metadata": {
        "id": "lj6bDhoWxt2y"
      }
    },
    {
      "cell_type": "code",
      "source": [
        "conv2d = nn.Conv2d(\n",
        "    in_channels=3,\n",
        "    out_channels=10,\n",
        "    kernel_size = 32,\n",
        "    stride = 1,\n",
        "    padding = 1\n",
        ")\n",
        "\n",
        "sample = torch.rand(size = (1, 3, 64, 64))\n",
        "pred = conv2d(sample)\n",
        "pred"
      ],
      "metadata": {
        "id": "leCTsqtSbR5P",
        "colab": {
          "base_uri": "https://localhost:8080/"
        },
        "outputId": "2cce77b7-1dda-4a83-edc0-11264fb849b3"
      },
      "execution_count": 45,
      "outputs": [
        {
          "output_type": "execute_result",
          "data": {
            "text/plain": [
              "tensor([[[[-0.3221, -0.0886, -0.0373,  ..., -0.0717, -0.4309,  0.0432],\n",
              "          [-0.3193, -0.2515, -0.5557,  ..., -0.3989, -0.4013, -0.4322],\n",
              "          [-0.4975, -0.3829, -0.0338,  ..., -0.4227, -0.5359, -0.4966],\n",
              "          ...,\n",
              "          [-0.2544, -0.2236, -0.2565,  ..., -0.4681, -0.2607, -0.2909],\n",
              "          [-0.3870, -0.3040, -0.3486,  ..., -0.1773, -0.4145, -0.3728],\n",
              "          [-0.5055, -0.2533, -0.0432,  ..., -0.1433, -0.2927, -0.3818]],\n",
              "\n",
              "         [[-0.2578, -0.2445, -0.4192,  ...,  0.0395, -0.2882, -0.1634],\n",
              "          [-0.1829, -0.2804, -0.1464,  ..., -0.2138,  0.0855, -0.2904],\n",
              "          [ 0.0237,  0.0267, -0.1898,  ..., -0.0950, -0.4059,  0.0198],\n",
              "          ...,\n",
              "          [-0.1087, -0.0736, -0.0654,  ..., -0.1741,  0.1810, -0.1446],\n",
              "          [-0.4529,  0.1318,  0.1214,  ..., -0.1467, -0.2587, -0.2062],\n",
              "          [-0.2509, -0.5449,  0.0119,  ..., -0.2145,  0.0610, -0.1593]],\n",
              "\n",
              "         [[-0.1758, -0.5950, -0.3016,  ..., -0.0512, -0.2744, -0.3557],\n",
              "          [-0.5926, -0.2835, -0.4143,  ..., -0.3908, -0.2483, -0.2734],\n",
              "          [-0.3121, -0.0522, -0.1127,  ..., -0.5138, -0.4195, -0.0456],\n",
              "          ...,\n",
              "          [-0.2935, -0.1050, -0.3022,  ..., -0.3083, -0.2332, -0.4675],\n",
              "          [-0.4536, -0.3145, -0.3814,  ..., -0.3116, -0.2824, -0.4629],\n",
              "          [-0.3202, -0.3165, -0.3509,  ..., -0.3951, -0.1481, -0.2973]],\n",
              "\n",
              "         ...,\n",
              "\n",
              "         [[-0.5500, -0.5035, -0.5067,  ..., -0.6160, -0.5527, -0.5861],\n",
              "          [-0.7830, -0.9279, -0.7028,  ..., -0.6489, -0.6325, -0.7761],\n",
              "          [-0.8775, -0.4744, -0.7087,  ..., -0.7261, -0.5102, -0.4863],\n",
              "          ...,\n",
              "          [-0.8475, -0.4574, -0.9525,  ..., -0.4540, -0.3661, -0.7023],\n",
              "          [-0.8948, -0.5797, -0.6828,  ..., -0.5228, -0.5794, -0.6206],\n",
              "          [-0.5908, -0.2172, -0.6833,  ..., -0.5923, -0.2743, -0.8008]],\n",
              "\n",
              "         [[ 0.1974,  0.4310,  0.3936,  ...,  0.5335,  0.2684,  0.4482],\n",
              "          [ 0.2336,  0.6003,  0.3771,  ...,  0.5907,  0.3562,  0.3082],\n",
              "          [ 0.2802,  0.5524,  0.2446,  ...,  0.3625,  0.2609,  0.6463],\n",
              "          ...,\n",
              "          [ 0.6774,  0.1863,  0.5536,  ...,  0.5526,  0.5751,  0.3369],\n",
              "          [ 0.3876,  0.3909,  0.1490,  ...,  0.3435,  0.3734,  0.5497],\n",
              "          [ 0.4283,  0.3362,  0.5116,  ...,  0.5466,  0.5638,  0.3202]],\n",
              "\n",
              "         [[-0.0959, -0.1556,  0.1987,  ...,  0.2633,  0.0792,  0.0461],\n",
              "          [-0.0416,  0.2065, -0.2119,  ...,  0.1968,  0.1695,  0.2075],\n",
              "          [ 0.3289,  0.2481,  0.3954,  ...,  0.1912, -0.0061,  0.0937],\n",
              "          ...,\n",
              "          [-0.0211,  0.0866,  0.3165,  ...,  0.0970,  0.1528,  0.1405],\n",
              "          [-0.1170,  0.3221,  0.1955,  ...,  0.0077,  0.1879,  0.3183],\n",
              "          [ 0.0640,  0.0586,  0.0702,  ...,  0.2361,  0.3000,  0.0869]]]],\n",
              "       grad_fn=<ConvolutionBackward0>)"
            ]
          },
          "metadata": {},
          "execution_count": 45
        }
      ]
    },
    {
      "cell_type": "markdown",
      "source": [
        "## 13. Use a model similar to the trained `model_2` from notebook 03 to make predictions on the test [`torchvision.datasets.FashionMNIST`](https://pytorch.org/vision/main/generated/torchvision.datasets.FashionMNIST.html) dataset.\n",
        "* Then plot some predictions where the model was wrong alongside what the label of the image should've been.\n",
        "* After visualing these predictions do you think it's more of a modelling error or a data error?\n",
        "* As in, could the model do better or are the labels of the data too close to each other (e.g. a \"Shirt\" label is too close to \"T-shirt/top\")?"
      ],
      "metadata": {
        "id": "VHS20cNTxwSi"
      }
    },
    {
      "cell_type": "markdown",
      "source": [
        "The wrong predictions that the model had made are on some specific cases in which the the data is difficult to classifu evn for a  human. So the problem is more of a data error than modelling error"
      ],
      "metadata": {
        "id": "iABYk3WpENB7"
      }
    }
  ]
}