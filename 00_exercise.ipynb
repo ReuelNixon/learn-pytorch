{
  "nbformat": 4,
  "nbformat_minor": 0,
  "metadata": {
    "colab": {
      "provenance": [],
      "gpuType": "T4",
      "authorship_tag": "ABX9TyOl/njdGbXK3VvDJVv1dNzc",
      "include_colab_link": true
    },
    "kernelspec": {
      "name": "python3",
      "display_name": "Python 3"
    },
    "language_info": {
      "name": "python"
    },
    "accelerator": "GPU"
  },
  "cells": [
    {
      "cell_type": "markdown",
      "metadata": {
        "id": "view-in-github",
        "colab_type": "text"
      },
      "source": [
        "<a href=\"https://colab.research.google.com/github/ReuelNixon/learn-pytorch/blob/main/00_exercise.ipynb\" target=\"_parent\"><img src=\"https://colab.research.google.com/assets/colab-badge.svg\" alt=\"Open In Colab\"/></a>"
      ]
    },
    {
      "cell_type": "markdown",
      "source": [
        "## Exercises\n",
        "All of the exercises are focused on practicing the code above.\n",
        "\n",
        "You should be able to complete them by referencing each section or by following the resource(s) linked.\n",
        "\n",
        "Resources:\n",
        "1. Documentation reading - A big part of deep learning (and learning to code in general) is getting familiar with the documentation of a certain framework you're using. We'll be using the PyTorch documentation a lot throughout the rest of this course. So I'd recommend spending 10-minutes reading the following (it's okay if you don't get some things for now, the focus is not yet full understanding, it's awareness). See the documentation on [torch.Tensor](https://pytorch.org/docs/stable/tensors.html#torch-tensor) and for [torch.cuda](https://pytorch.org/docs/master/notes/cuda.html#cuda-semantics).\n",
        "2. Create a random tensor with shape (7, 7).\n",
        "3. Perform a matrix multiplication on the tensor from 2 with another random tensor with shape (1, 7) (hint: you may have to transpose the second tensor).\n",
        "4. Set the random seed to 0 and do exercises 2 & 3 over again.\n",
        "5. Speaking of random seeds, we saw how to set it with torch.manual_seed() but is there a GPU equivalent? (hint: you'll need to look into the documentation for torch.cuda for this one). If there is, set the GPU random seed to 1234.\n",
        "6. Create two random tensors of shape (2, 3) and send them both to the GPU (you'll need access to a GPU for this). Set torch.manual_seed(1234) when creating the tensors (this doesn't have to be the GPU random seed).\n",
        "7. Perform a matrix multiplication on the tensors you created in 6 (again, you may have to adjust the shapes of one of the tensors).\n",
        "8. Find the maximum and minimum values of the output of 7.\n",
        "9. Find the maximum and minimum index values of the output of 7.\n",
        "10. Make a random tensor with shape (1, 1, 1, 10) and then create a new tensor with all the 1 dimensions removed to be left with a tensor of shape (10). Set the seed to 7 when you create it and print out the first tensor and it's shape as well as the second tensor and it's shape."
      ],
      "metadata": {
        "id": "X6vx7ubHGbY1"
      }
    },
    {
      "cell_type": "code",
      "source": [
        "import torch"
      ],
      "metadata": {
        "id": "6Ldl9__rH9HN"
      },
      "execution_count": null,
      "outputs": []
    },
    {
      "cell_type": "code",
      "source": [
        "#2. Create a random tensor with shape (7, 7).\n",
        "t1 = torch.rand(7,7)\n",
        "t1"
      ],
      "metadata": {
        "id": "mT1FJuSNG5bR",
        "colab": {
          "base_uri": "https://localhost:8080/"
        },
        "outputId": "15bb871e-647b-4645-9c38-3db1150b59f0"
      },
      "execution_count": null,
      "outputs": [
        {
          "output_type": "execute_result",
          "data": {
            "text/plain": [
              "tensor([[0.9290, 0.2247, 0.0934, 0.8791, 0.9696, 0.1601, 0.1095],\n",
              "        [0.9822, 0.1344, 0.6823, 0.4091, 0.6877, 0.2463, 0.5826],\n",
              "        [0.0070, 0.2759, 0.9932, 0.2767, 0.1608, 0.2078, 0.6026],\n",
              "        [0.3436, 0.2152, 0.8295, 0.5230, 0.7855, 0.2182, 0.3809],\n",
              "        [0.9169, 0.0680, 0.5139, 0.8238, 0.6321, 0.9593, 0.1004],\n",
              "        [0.7865, 0.6448, 0.8482, 0.5746, 0.4974, 0.2420, 0.2929],\n",
              "        [0.7229, 0.4487, 0.8680, 0.2092, 0.3701, 0.3520, 0.4148]])"
            ]
          },
          "metadata": {},
          "execution_count": 2
        }
      ]
    },
    {
      "cell_type": "code",
      "source": [
        "#3. Perform a matrix multiplication on the tensor from 2 with another random tensor with shape (1, 7) (hint: you may have to transpose the second tensor).\n",
        "t2 = torch.rand(1,7)\n",
        "t1 @ t2.T"
      ],
      "metadata": {
        "colab": {
          "base_uri": "https://localhost:8080/"
        },
        "id": "Se2dKAU9H8KH",
        "outputId": "c45db14c-225c-4ed2-d244-5d00dea794e6"
      },
      "execution_count": null,
      "outputs": [
        {
          "output_type": "execute_result",
          "data": {
            "text/plain": [
              "tensor([[1.2666],\n",
              "        [1.5735],\n",
              "        [1.0558],\n",
              "        [1.3021],\n",
              "        [1.6232],\n",
              "        [1.3973],\n",
              "        [1.3564]])"
            ]
          },
          "metadata": {},
          "execution_count": 3
        }
      ]
    },
    {
      "cell_type": "code",
      "source": [
        "#4. Set the random seed to 0 and do exercises 2 & 3 over again.\n",
        "torch.manual_seed(0)\n",
        "t3 = torch.rand(7,7)\n",
        "print(t3)\n",
        "\n",
        "t4 = torch.rand(1,7)\n",
        "print(t4)\n",
        "\n",
        "t3 @ t4.T"
      ],
      "metadata": {
        "colab": {
          "base_uri": "https://localhost:8080/"
        },
        "id": "ifhHNoF-IOwL",
        "outputId": "834aec82-29c2-45d1-8d84-33adf26de36c"
      },
      "execution_count": null,
      "outputs": [
        {
          "output_type": "stream",
          "name": "stdout",
          "text": [
            "tensor([[0.4963, 0.7682, 0.0885, 0.1320, 0.3074, 0.6341, 0.4901],\n",
            "        [0.8964, 0.4556, 0.6323, 0.3489, 0.4017, 0.0223, 0.1689],\n",
            "        [0.2939, 0.5185, 0.6977, 0.8000, 0.1610, 0.2823, 0.6816],\n",
            "        [0.9152, 0.3971, 0.8742, 0.4194, 0.5529, 0.9527, 0.0362],\n",
            "        [0.1852, 0.3734, 0.3051, 0.9320, 0.1759, 0.2698, 0.1507],\n",
            "        [0.0317, 0.2081, 0.9298, 0.7231, 0.7423, 0.5263, 0.2437],\n",
            "        [0.5846, 0.0332, 0.1387, 0.2422, 0.8155, 0.7932, 0.2783]])\n",
            "tensor([[0.4820, 0.8198, 0.9971, 0.6984, 0.5675, 0.8352, 0.2056]])\n"
          ]
        },
        {
          "output_type": "execute_result",
          "data": {
            "text/plain": [
              "tensor([[1.8542],\n",
              "        [1.9611],\n",
              "        [2.2884],\n",
              "        [3.0481],\n",
              "        [1.7067],\n",
              "        [2.5290],\n",
              "        [1.7989]])"
            ]
          },
          "metadata": {},
          "execution_count": 4
        }
      ]
    },
    {
      "cell_type": "code",
      "source": [
        "#5. set the GPU random seed to 1234.\n",
        "torch.cuda.manual_seed(1234)\n",
        "t5 = torch.rand(1,3, device='cuda')\n",
        "torch.cuda.manual_seed(1234)\n",
        "t6 = torch.rand(1,3, device='cuda')\n",
        "\n",
        "print(t5)\n",
        "print(t6)\n",
        "print(t5 == t6)"
      ],
      "metadata": {
        "id": "lZoK9fRKIlQZ",
        "colab": {
          "base_uri": "https://localhost:8080/"
        },
        "outputId": "810a0041-7534-4a76-eb71-edbbaf7b4022"
      },
      "execution_count": null,
      "outputs": [
        {
          "output_type": "stream",
          "name": "stdout",
          "text": [
            "tensor([[0.1272, 0.8167, 0.5440]], device='cuda:0')\n",
            "tensor([[0.1272, 0.8167, 0.5440]], device='cuda:0')\n",
            "tensor([[True, True, True]], device='cuda:0')\n"
          ]
        }
      ]
    },
    {
      "cell_type": "code",
      "source": [
        "#6. Create two random tensors of shape (2, 3) and send them both to the GPU (you'll need access to a GPU for this). Set torch.manual_seed(1234) when creating the tensors (this doesn't have to be the GPU random seed).\n",
        "torch.manual_seed(1234)\n",
        "t7 = torch.rand(2,3, device='cuda')\n",
        "torch.manual_seed(1234)\n",
        "t8 = torch.rand(2,3, device='cuda')\n",
        "\n",
        "print(t7)\n",
        "print(t8)\n",
        "print(t7 == t8)"
      ],
      "metadata": {
        "colab": {
          "base_uri": "https://localhost:8080/"
        },
        "id": "Y-TfZAg5YRw-",
        "outputId": "00c3415d-a5bb-4e84-81d8-d9824805e053"
      },
      "execution_count": null,
      "outputs": [
        {
          "output_type": "stream",
          "name": "stdout",
          "text": [
            "tensor([[0.1272, 0.8167, 0.5440],\n",
            "        [0.6601, 0.2721, 0.9737]], device='cuda:0')\n",
            "tensor([[0.1272, 0.8167, 0.5440],\n",
            "        [0.6601, 0.2721, 0.9737]], device='cuda:0')\n",
            "tensor([[True, True, True],\n",
            "        [True, True, True]], device='cuda:0')\n"
          ]
        }
      ]
    },
    {
      "cell_type": "code",
      "source": [
        "#7. Perform a matrix multiplication on the tensors you created in 6 (again, you may have to adjust the shapes of one of the tensors).\n",
        "t9 = t7 @ t8.T\n",
        "t9"
      ],
      "metadata": {
        "colab": {
          "base_uri": "https://localhost:8080/"
        },
        "id": "--zIZejoc2P4",
        "outputId": "c62b1ffc-54e5-497c-f161-41f25a3ddc86"
      },
      "execution_count": null,
      "outputs": [
        {
          "output_type": "execute_result",
          "data": {
            "text/plain": [
              "tensor([[0.9792, 0.8358],\n",
              "        [0.8358, 1.4578]], device='cuda:0')"
            ]
          },
          "metadata": {},
          "execution_count": 7
        }
      ]
    },
    {
      "cell_type": "code",
      "source": [
        "#8. Find the maximum and minimum values of the output of 7.\n",
        "t9.max(), t9.min()"
      ],
      "metadata": {
        "colab": {
          "base_uri": "https://localhost:8080/"
        },
        "id": "-TPPmZGec6HS",
        "outputId": "0958b847-03b2-4771-e64c-53bc7e689200"
      },
      "execution_count": null,
      "outputs": [
        {
          "output_type": "execute_result",
          "data": {
            "text/plain": [
              "(tensor(1.4578, device='cuda:0'), tensor(0.8358, device='cuda:0'))"
            ]
          },
          "metadata": {},
          "execution_count": 8
        }
      ]
    },
    {
      "cell_type": "code",
      "source": [
        "#9. Find the maximum and minimum index values of the output of 7.\n",
        "t9.argmax(), t9.argmin()"
      ],
      "metadata": {
        "colab": {
          "base_uri": "https://localhost:8080/"
        },
        "id": "zCjHykYldO6C",
        "outputId": "b437af13-1f66-45ee-9997-2764a175f613"
      },
      "execution_count": null,
      "outputs": [
        {
          "output_type": "execute_result",
          "data": {
            "text/plain": [
              "(tensor(3, device='cuda:0'), tensor(1, device='cuda:0'))"
            ]
          },
          "metadata": {},
          "execution_count": 9
        }
      ]
    },
    {
      "cell_type": "code",
      "source": [
        "#10. Make a random tensor with shape (1, 1, 1, 10) and then create a new tensor with all the 1 dimensions removed to be left with a tensor of shape (10). Set the seed to 7 when you create it and print out the first tensor and it's shape as well as the second tensor and it's shape.\n",
        "torch.manual_seed(7)\n",
        "t10 = torch.rand(1,1,1,10)\n",
        "print(t10, '\\t', t10.shape)\n",
        "t10_squeezed = t10.squeeze()\n",
        "print(t10_squeezed, '\\t', t10_squeezed.shape)"
      ],
      "metadata": {
        "colab": {
          "base_uri": "https://localhost:8080/"
        },
        "id": "7Ryfsuovdd-r",
        "outputId": "6df9ebb6-a8bf-4e90-aef4-ab9a0b4a5246"
      },
      "execution_count": null,
      "outputs": [
        {
          "output_type": "stream",
          "name": "stdout",
          "text": [
            "tensor([[[[0.5349, 0.1988, 0.6592, 0.6569, 0.2328, 0.4251, 0.2071, 0.6297,\n",
            "           0.3653, 0.8513]]]]) \t torch.Size([1, 1, 1, 10])\n",
            "tensor([0.5349, 0.1988, 0.6592, 0.6569, 0.2328, 0.4251, 0.2071, 0.6297, 0.3653,\n",
            "        0.8513]) \t torch.Size([10])\n"
          ]
        }
      ]
    }
  ]
}